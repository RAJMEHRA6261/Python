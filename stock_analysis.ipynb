{
 "cells": [
  {
   "cell_type": "code",
   "execution_count": 1,
   "id": "7bee8903-dd37-403c-aaca-5b255926f694",
   "metadata": {},
   "outputs": [],
   "source": [
    "import pandas as pd\n",
    "import mysql.connector\n",
    "from datetime import datetime\n",
    "import seaborn as sns\n",
    "import matplotlib.pyplot as plt"
   ]
  },
  {
   "cell_type": "code",
   "execution_count": 2,
   "id": "c4ff601d-af4f-4daf-a5df-af7f5d351edd",
   "metadata": {},
   "outputs": [],
   "source": [
    "# Load datasets\n",
    "high_df = pd.read_csv('52WeekHigh.csv')\n",
    "low_df = pd.read_csv('52WeekLow.csv')"
   ]
  },
  {
   "cell_type": "code",
   "execution_count": 3,
   "id": "57b5bf10-5483-4c92-b50d-087d9b3c9162",
   "metadata": {},
   "outputs": [
    {
     "data": {
      "text/html": [
       "<div>\n",
       "<style scoped>\n",
       "    .dataframe tbody tr th:only-of-type {\n",
       "        vertical-align: middle;\n",
       "    }\n",
       "\n",
       "    .dataframe tbody tr th {\n",
       "        vertical-align: top;\n",
       "    }\n",
       "\n",
       "    .dataframe thead th {\n",
       "        text-align: right;\n",
       "    }\n",
       "</style>\n",
       "<table border=\"1\" class=\"dataframe\">\n",
       "  <thead>\n",
       "    <tr style=\"text-align: right;\">\n",
       "      <th></th>\n",
       "      <th>Symbol</th>\n",
       "      <th>Series</th>\n",
       "      <th>LTP</th>\n",
       "      <th>%chng</th>\n",
       "      <th>New 52W/H price</th>\n",
       "      <th>Prev.High</th>\n",
       "      <th>Prev. High Date</th>\n",
       "    </tr>\n",
       "  </thead>\n",
       "  <tbody>\n",
       "    <tr>\n",
       "      <th>0</th>\n",
       "      <td>ABINFRA</td>\n",
       "      <td>EQ</td>\n",
       "      <td>95.00</td>\n",
       "      <td>-0.11</td>\n",
       "      <td>98.00</td>\n",
       "      <td>97.00</td>\n",
       "      <td>18-Mar-2025</td>\n",
       "    </tr>\n",
       "    <tr>\n",
       "      <th>1</th>\n",
       "      <td>AJAXENGG</td>\n",
       "      <td>EQ</td>\n",
       "      <td>637.90</td>\n",
       "      <td>4.40</td>\n",
       "      <td>648.00</td>\n",
       "      <td>628.85</td>\n",
       "      <td>20-Feb-2025</td>\n",
       "    </tr>\n",
       "    <tr>\n",
       "      <th>2</th>\n",
       "      <td>AXISCADES</td>\n",
       "      <td>BE</td>\n",
       "      <td>890.00</td>\n",
       "      <td>-2.75</td>\n",
       "      <td>959.95</td>\n",
       "      <td>915.20</td>\n",
       "      <td>18-Mar-2025</td>\n",
       "    </tr>\n",
       "    <tr>\n",
       "      <th>3</th>\n",
       "      <td>BAJAJHCARE</td>\n",
       "      <td>EQ</td>\n",
       "      <td>708.00</td>\n",
       "      <td>4.81</td>\n",
       "      <td>745.00</td>\n",
       "      <td>719.00</td>\n",
       "      <td>06-Feb-2025</td>\n",
       "    </tr>\n",
       "    <tr>\n",
       "      <th>4</th>\n",
       "      <td>BAJFINANCE</td>\n",
       "      <td>EQ</td>\n",
       "      <td>8749.65</td>\n",
       "      <td>0.77</td>\n",
       "      <td>8879.00</td>\n",
       "      <td>8739.00</td>\n",
       "      <td>27-Feb-2025</td>\n",
       "    </tr>\n",
       "    <tr>\n",
       "      <th>5</th>\n",
       "      <td>BALAJIPHOS</td>\n",
       "      <td>ST</td>\n",
       "      <td>79.00</td>\n",
       "      <td>2.60</td>\n",
       "      <td>80.50</td>\n",
       "      <td>80.00</td>\n",
       "      <td>12-Mar-2025</td>\n",
       "    </tr>\n",
       "    <tr>\n",
       "      <th>6</th>\n",
       "      <td>BLUEJET</td>\n",
       "      <td>EQ</td>\n",
       "      <td>915.00</td>\n",
       "      <td>-1.51</td>\n",
       "      <td>955.45</td>\n",
       "      <td>929.05</td>\n",
       "      <td>18-Mar-2025</td>\n",
       "    </tr>\n",
       "    <tr>\n",
       "      <th>7</th>\n",
       "      <td>CAMLINFINE</td>\n",
       "      <td>EQ</td>\n",
       "      <td>178.78</td>\n",
       "      <td>4.92</td>\n",
       "      <td>178.80</td>\n",
       "      <td>175.50</td>\n",
       "      <td>12-Mar-2025</td>\n",
       "    </tr>\n",
       "    <tr>\n",
       "      <th>8</th>\n",
       "      <td>CASHIETF</td>\n",
       "      <td>EQ</td>\n",
       "      <td>1001.49</td>\n",
       "      <td>0.03</td>\n",
       "      <td>1001.49</td>\n",
       "      <td>0.00</td>\n",
       "      <td>-</td>\n",
       "    </tr>\n",
       "    <tr>\n",
       "      <th>9</th>\n",
       "      <td>CHAMBLFERT</td>\n",
       "      <td>EQ</td>\n",
       "      <td>589.50</td>\n",
       "      <td>3.68</td>\n",
       "      <td>591.35</td>\n",
       "      <td>588.80</td>\n",
       "      <td>06-Mar-2025</td>\n",
       "    </tr>\n",
       "    <tr>\n",
       "      <th>10</th>\n",
       "      <td>CHANDAN</td>\n",
       "      <td>SM</td>\n",
       "      <td>189.00</td>\n",
       "      <td>4.77</td>\n",
       "      <td>201.50</td>\n",
       "      <td>191.00</td>\n",
       "      <td>18-Mar-2025</td>\n",
       "    </tr>\n",
       "    <tr>\n",
       "      <th>11</th>\n",
       "      <td>COMMITTED</td>\n",
       "      <td>ST</td>\n",
       "      <td>218.00</td>\n",
       "      <td>0.02</td>\n",
       "      <td>219.90</td>\n",
       "      <td>219.90</td>\n",
       "      <td>18-Mar-2025</td>\n",
       "    </tr>\n",
       "    <tr>\n",
       "      <th>12</th>\n",
       "      <td>COROMANDEL</td>\n",
       "      <td>EQ</td>\n",
       "      <td>1969.25</td>\n",
       "      <td>0.33</td>\n",
       "      <td>2014.65</td>\n",
       "      <td>1977.90</td>\n",
       "      <td>06-Jan-2025</td>\n",
       "    </tr>\n",
       "    <tr>\n",
       "      <th>13</th>\n",
       "      <td>ESILVER</td>\n",
       "      <td>EQ</td>\n",
       "      <td>100.50</td>\n",
       "      <td>-1.32</td>\n",
       "      <td>102.30</td>\n",
       "      <td>101.85</td>\n",
       "      <td>18-Mar-2025</td>\n",
       "    </tr>\n",
       "    <tr>\n",
       "      <th>14</th>\n",
       "      <td>GABRIEL</td>\n",
       "      <td>EQ</td>\n",
       "      <td>580.55</td>\n",
       "      <td>1.49</td>\n",
       "      <td>589.00</td>\n",
       "      <td>587.00</td>\n",
       "      <td>18-Mar-2025</td>\n",
       "    </tr>\n",
       "    <tr>\n",
       "      <th>15</th>\n",
       "      <td>GOLD360</td>\n",
       "      <td>EQ</td>\n",
       "      <td>87.90</td>\n",
       "      <td>0.23</td>\n",
       "      <td>89.90</td>\n",
       "      <td>88.10</td>\n",
       "      <td>18-Mar-2025</td>\n",
       "    </tr>\n",
       "    <tr>\n",
       "      <th>16</th>\n",
       "      <td>GOLDBEES</td>\n",
       "      <td>EQ</td>\n",
       "      <td>74.14</td>\n",
       "      <td>0.01</td>\n",
       "      <td>74.78</td>\n",
       "      <td>74.50</td>\n",
       "      <td>18-Mar-2025</td>\n",
       "    </tr>\n",
       "    <tr>\n",
       "      <th>17</th>\n",
       "      <td>GOLDETF</td>\n",
       "      <td>EQ</td>\n",
       "      <td>87.08</td>\n",
       "      <td>0.24</td>\n",
       "      <td>87.49</td>\n",
       "      <td>87.29</td>\n",
       "      <td>18-Mar-2025</td>\n",
       "    </tr>\n",
       "    <tr>\n",
       "      <th>18</th>\n",
       "      <td>GOLDETFADD</td>\n",
       "      <td>EQ</td>\n",
       "      <td>87.19</td>\n",
       "      <td>0.80</td>\n",
       "      <td>87.29</td>\n",
       "      <td>87.20</td>\n",
       "      <td>18-Mar-2025</td>\n",
       "    </tr>\n",
       "    <tr>\n",
       "      <th>19</th>\n",
       "      <td>GOLDIETF</td>\n",
       "      <td>EQ</td>\n",
       "      <td>76.50</td>\n",
       "      <td>0.10</td>\n",
       "      <td>77.08</td>\n",
       "      <td>77.00</td>\n",
       "      <td>11-Feb-2025</td>\n",
       "    </tr>\n",
       "    <tr>\n",
       "      <th>20</th>\n",
       "      <td>GOLDSHARE</td>\n",
       "      <td>EQ</td>\n",
       "      <td>74.95</td>\n",
       "      <td>0.13</td>\n",
       "      <td>75.35</td>\n",
       "      <td>75.20</td>\n",
       "      <td>24-Feb-2025</td>\n",
       "    </tr>\n",
       "    <tr>\n",
       "      <th>21</th>\n",
       "      <td>INDIGO</td>\n",
       "      <td>EQ</td>\n",
       "      <td>4941.75</td>\n",
       "      <td>2.82</td>\n",
       "      <td>5052.75</td>\n",
       "      <td>5035.00</td>\n",
       "      <td>12-Sep-2024</td>\n",
       "    </tr>\n",
       "    <tr>\n",
       "      <th>22</th>\n",
       "      <td>ITCHOTELS</td>\n",
       "      <td>EQ</td>\n",
       "      <td>183.67</td>\n",
       "      <td>3.33</td>\n",
       "      <td>189.74</td>\n",
       "      <td>180.00</td>\n",
       "      <td>29-Jan-2025</td>\n",
       "    </tr>\n",
       "    <tr>\n",
       "      <th>23</th>\n",
       "      <td>ITTL</td>\n",
       "      <td>ST</td>\n",
       "      <td>34.15</td>\n",
       "      <td>1.94</td>\n",
       "      <td>34.15</td>\n",
       "      <td>33.50</td>\n",
       "      <td>18-Mar-2025</td>\n",
       "    </tr>\n",
       "    <tr>\n",
       "      <th>24</th>\n",
       "      <td>IVZINGOLD</td>\n",
       "      <td>EQ</td>\n",
       "      <td>7800.50</td>\n",
       "      <td>0.65</td>\n",
       "      <td>7884.95</td>\n",
       "      <td>7833.00</td>\n",
       "      <td>17-Mar-2025</td>\n",
       "    </tr>\n",
       "    <tr>\n",
       "      <th>25</th>\n",
       "      <td>JSWHL</td>\n",
       "      <td>EQ</td>\n",
       "      <td>22121.60</td>\n",
       "      <td>5.00</td>\n",
       "      <td>22121.60</td>\n",
       "      <td>21368.35</td>\n",
       "      <td>18-Mar-2025</td>\n",
       "    </tr>\n",
       "    <tr>\n",
       "      <th>26</th>\n",
       "      <td>KARNIKA</td>\n",
       "      <td>ST</td>\n",
       "      <td>663.00</td>\n",
       "      <td>0.08</td>\n",
       "      <td>680.00</td>\n",
       "      <td>680.00</td>\n",
       "      <td>12-Mar-2025</td>\n",
       "    </tr>\n",
       "    <tr>\n",
       "      <th>27</th>\n",
       "      <td>KOTAKBANK</td>\n",
       "      <td>EQ</td>\n",
       "      <td>2019.85</td>\n",
       "      <td>-0.70</td>\n",
       "      <td>2051.00</td>\n",
       "      <td>2039.00</td>\n",
       "      <td>18-Mar-2025</td>\n",
       "    </tr>\n",
       "    <tr>\n",
       "      <th>28</th>\n",
       "      <td>LIQUIDSBI</td>\n",
       "      <td>EQ</td>\n",
       "      <td>1000.01</td>\n",
       "      <td>0.00</td>\n",
       "      <td>1000.01</td>\n",
       "      <td>1000.01</td>\n",
       "      <td>18-Mar-2025</td>\n",
       "    </tr>\n",
       "    <tr>\n",
       "      <th>29</th>\n",
       "      <td>MOCAPITAL</td>\n",
       "      <td>EQ</td>\n",
       "      <td>31.90</td>\n",
       "      <td>3.81</td>\n",
       "      <td>31.91</td>\n",
       "      <td>30.83</td>\n",
       "      <td>18-Mar-2025</td>\n",
       "    </tr>\n",
       "    <tr>\n",
       "      <th>30</th>\n",
       "      <td>MPSLTD</td>\n",
       "      <td>EQ</td>\n",
       "      <td>2907.00</td>\n",
       "      <td>0.72</td>\n",
       "      <td>2959.00</td>\n",
       "      <td>2922.95</td>\n",
       "      <td>07-Mar-2025</td>\n",
       "    </tr>\n",
       "    <tr>\n",
       "      <th>31</th>\n",
       "      <td>MUTHOOTFIN</td>\n",
       "      <td>EQ</td>\n",
       "      <td>2410.00</td>\n",
       "      <td>3.97</td>\n",
       "      <td>2423.50</td>\n",
       "      <td>2334.80</td>\n",
       "      <td>13-Feb-2025</td>\n",
       "    </tr>\n",
       "    <tr>\n",
       "      <th>32</th>\n",
       "      <td>PRABHA</td>\n",
       "      <td>BE</td>\n",
       "      <td>210.94</td>\n",
       "      <td>-5.00</td>\n",
       "      <td>222.05</td>\n",
       "      <td>0.00</td>\n",
       "      <td>-</td>\n",
       "    </tr>\n",
       "    <tr>\n",
       "      <th>33</th>\n",
       "      <td>SARDAEN</td>\n",
       "      <td>EQ</td>\n",
       "      <td>534.00</td>\n",
       "      <td>-4.03</td>\n",
       "      <td>563.45</td>\n",
       "      <td>557.95</td>\n",
       "      <td>18-Mar-2025</td>\n",
       "    </tr>\n",
       "    <tr>\n",
       "      <th>34</th>\n",
       "      <td>SELECTIPO</td>\n",
       "      <td>EQ</td>\n",
       "      <td>41.60</td>\n",
       "      <td>3.07</td>\n",
       "      <td>41.60</td>\n",
       "      <td>40.71</td>\n",
       "      <td>18-Mar-2025</td>\n",
       "    </tr>\n",
       "    <tr>\n",
       "      <th>35</th>\n",
       "      <td>SENORES</td>\n",
       "      <td>EQ</td>\n",
       "      <td>624.70</td>\n",
       "      <td>0.51</td>\n",
       "      <td>665.00</td>\n",
       "      <td>644.80</td>\n",
       "      <td>06-Feb-2025</td>\n",
       "    </tr>\n",
       "    <tr>\n",
       "      <th>36</th>\n",
       "      <td>SHEETAL</td>\n",
       "      <td>SM</td>\n",
       "      <td>88.55</td>\n",
       "      <td>2.91</td>\n",
       "      <td>89.95</td>\n",
       "      <td>86.15</td>\n",
       "      <td>18-Mar-2025</td>\n",
       "    </tr>\n",
       "    <tr>\n",
       "      <th>37</th>\n",
       "      <td>SILVER</td>\n",
       "      <td>EQ</td>\n",
       "      <td>100.51</td>\n",
       "      <td>-0.82</td>\n",
       "      <td>104.40</td>\n",
       "      <td>103.00</td>\n",
       "      <td>23-Oct-2024</td>\n",
       "    </tr>\n",
       "    <tr>\n",
       "      <th>38</th>\n",
       "      <td>SILVRETF</td>\n",
       "      <td>EQ</td>\n",
       "      <td>98.05</td>\n",
       "      <td>-0.87</td>\n",
       "      <td>99.20</td>\n",
       "      <td>99.10</td>\n",
       "      <td>18-Mar-2025</td>\n",
       "    </tr>\n",
       "    <tr>\n",
       "      <th>39</th>\n",
       "      <td>SWARAJENG</td>\n",
       "      <td>EQ</td>\n",
       "      <td>3739.80</td>\n",
       "      <td>13.83</td>\n",
       "      <td>3789.00</td>\n",
       "      <td>3470.00</td>\n",
       "      <td>27-Aug-2024</td>\n",
       "    </tr>\n",
       "    <tr>\n",
       "      <th>40</th>\n",
       "      <td>TAJGVK</td>\n",
       "      <td>EQ</td>\n",
       "      <td>517.85</td>\n",
       "      <td>3.23</td>\n",
       "      <td>528.10</td>\n",
       "      <td>518.85</td>\n",
       "      <td>12-Mar-2025</td>\n",
       "    </tr>\n",
       "    <tr>\n",
       "      <th>41</th>\n",
       "      <td>VADILALIND</td>\n",
       "      <td>EQ</td>\n",
       "      <td>5286.40</td>\n",
       "      <td>6.87</td>\n",
       "      <td>5450.00</td>\n",
       "      <td>5143.00</td>\n",
       "      <td>16-May-2024</td>\n",
       "    </tr>\n",
       "  </tbody>\n",
       "</table>\n",
       "</div>"
      ],
      "text/plain": [
       "       Symbol  Series       LTP   %chng   New 52W/H price   Prev.High   \\\n",
       "0      ABINFRA      EQ     95.00   -0.11             98.00       97.00   \n",
       "1     AJAXENGG      EQ    637.90    4.40            648.00      628.85   \n",
       "2    AXISCADES      BE    890.00   -2.75            959.95      915.20   \n",
       "3   BAJAJHCARE      EQ    708.00    4.81            745.00      719.00   \n",
       "4   BAJFINANCE      EQ   8749.65    0.77           8879.00     8739.00   \n",
       "5   BALAJIPHOS      ST     79.00    2.60             80.50       80.00   \n",
       "6      BLUEJET      EQ    915.00   -1.51            955.45      929.05   \n",
       "7   CAMLINFINE      EQ    178.78    4.92            178.80      175.50   \n",
       "8     CASHIETF      EQ   1001.49    0.03           1001.49        0.00   \n",
       "9   CHAMBLFERT      EQ    589.50    3.68            591.35      588.80   \n",
       "10     CHANDAN      SM    189.00    4.77            201.50      191.00   \n",
       "11   COMMITTED      ST    218.00    0.02            219.90      219.90   \n",
       "12  COROMANDEL      EQ   1969.25    0.33           2014.65     1977.90   \n",
       "13     ESILVER      EQ    100.50   -1.32            102.30      101.85   \n",
       "14     GABRIEL      EQ    580.55    1.49            589.00      587.00   \n",
       "15     GOLD360      EQ     87.90    0.23             89.90       88.10   \n",
       "16    GOLDBEES      EQ     74.14    0.01             74.78       74.50   \n",
       "17     GOLDETF      EQ     87.08    0.24             87.49       87.29   \n",
       "18  GOLDETFADD      EQ     87.19    0.80             87.29       87.20   \n",
       "19    GOLDIETF      EQ     76.50    0.10             77.08       77.00   \n",
       "20   GOLDSHARE      EQ     74.95    0.13             75.35       75.20   \n",
       "21      INDIGO      EQ   4941.75    2.82           5052.75     5035.00   \n",
       "22   ITCHOTELS      EQ    183.67    3.33            189.74      180.00   \n",
       "23        ITTL      ST     34.15    1.94             34.15       33.50   \n",
       "24   IVZINGOLD      EQ   7800.50    0.65           7884.95     7833.00   \n",
       "25       JSWHL      EQ  22121.60    5.00          22121.60    21368.35   \n",
       "26     KARNIKA      ST    663.00    0.08            680.00      680.00   \n",
       "27   KOTAKBANK      EQ   2019.85   -0.70           2051.00     2039.00   \n",
       "28   LIQUIDSBI      EQ   1000.01    0.00           1000.01     1000.01   \n",
       "29   MOCAPITAL      EQ     31.90    3.81             31.91       30.83   \n",
       "30      MPSLTD      EQ   2907.00    0.72           2959.00     2922.95   \n",
       "31  MUTHOOTFIN      EQ   2410.00    3.97           2423.50     2334.80   \n",
       "32      PRABHA      BE    210.94   -5.00            222.05        0.00   \n",
       "33     SARDAEN      EQ    534.00   -4.03            563.45      557.95   \n",
       "34   SELECTIPO      EQ     41.60    3.07             41.60       40.71   \n",
       "35     SENORES      EQ    624.70    0.51            665.00      644.80   \n",
       "36     SHEETAL      SM     88.55    2.91             89.95       86.15   \n",
       "37      SILVER      EQ    100.51   -0.82            104.40      103.00   \n",
       "38    SILVRETF      EQ     98.05   -0.87             99.20       99.10   \n",
       "39   SWARAJENG      EQ   3739.80   13.83           3789.00     3470.00   \n",
       "40      TAJGVK      EQ    517.85    3.23            528.10      518.85   \n",
       "41  VADILALIND      EQ   5286.40    6.87           5450.00     5143.00   \n",
       "\n",
       "   Prev. High Date   \n",
       "0       18-Mar-2025  \n",
       "1       20-Feb-2025  \n",
       "2       18-Mar-2025  \n",
       "3       06-Feb-2025  \n",
       "4       27-Feb-2025  \n",
       "5       12-Mar-2025  \n",
       "6       18-Mar-2025  \n",
       "7       12-Mar-2025  \n",
       "8                 -  \n",
       "9       06-Mar-2025  \n",
       "10      18-Mar-2025  \n",
       "11      18-Mar-2025  \n",
       "12      06-Jan-2025  \n",
       "13      18-Mar-2025  \n",
       "14      18-Mar-2025  \n",
       "15      18-Mar-2025  \n",
       "16      18-Mar-2025  \n",
       "17      18-Mar-2025  \n",
       "18      18-Mar-2025  \n",
       "19      11-Feb-2025  \n",
       "20      24-Feb-2025  \n",
       "21      12-Sep-2024  \n",
       "22      29-Jan-2025  \n",
       "23      18-Mar-2025  \n",
       "24      17-Mar-2025  \n",
       "25      18-Mar-2025  \n",
       "26      12-Mar-2025  \n",
       "27      18-Mar-2025  \n",
       "28      18-Mar-2025  \n",
       "29      18-Mar-2025  \n",
       "30      07-Mar-2025  \n",
       "31      13-Feb-2025  \n",
       "32                -  \n",
       "33      18-Mar-2025  \n",
       "34      18-Mar-2025  \n",
       "35      06-Feb-2025  \n",
       "36      18-Mar-2025  \n",
       "37      23-Oct-2024  \n",
       "38      18-Mar-2025  \n",
       "39      27-Aug-2024  \n",
       "40      12-Mar-2025  \n",
       "41      16-May-2024  "
      ]
     },
     "execution_count": 3,
     "metadata": {},
     "output_type": "execute_result"
    }
   ],
   "source": [
    "high_df  #EQ (Equity Segment), BE (Book Entry), ST (Small Trading Lot), SM (Small and Medium Enterprises)"
   ]
  },
  {
   "cell_type": "code",
   "execution_count": 410,
   "id": "f7edfb0f-191d-410f-8457-e61a6d7aa776",
   "metadata": {},
   "outputs": [
    {
     "data": {
      "text/html": [
       "<div>\n",
       "<style scoped>\n",
       "    .dataframe tbody tr th:only-of-type {\n",
       "        vertical-align: middle;\n",
       "    }\n",
       "\n",
       "    .dataframe tbody tr th {\n",
       "        vertical-align: top;\n",
       "    }\n",
       "\n",
       "    .dataframe thead th {\n",
       "        text-align: right;\n",
       "    }\n",
       "</style>\n",
       "<table border=\"1\" class=\"dataframe\">\n",
       "  <thead>\n",
       "    <tr style=\"text-align: right;\">\n",
       "      <th></th>\n",
       "      <th>Symbol</th>\n",
       "      <th>Series</th>\n",
       "      <th>LTP</th>\n",
       "      <th>%chng</th>\n",
       "      <th>New 52W/L price</th>\n",
       "      <th>Prev.Low</th>\n",
       "      <th>Prev. Low Date</th>\n",
       "    </tr>\n",
       "  </thead>\n",
       "  <tbody>\n",
       "    <tr>\n",
       "      <th>0</th>\n",
       "      <td>ACCORD</td>\n",
       "      <td>SM</td>\n",
       "      <td>19.40</td>\n",
       "      <td>-4.67</td>\n",
       "      <td>19.40</td>\n",
       "      <td>20.35</td>\n",
       "      <td>12-Mar-2025</td>\n",
       "    </tr>\n",
       "    <tr>\n",
       "      <th>1</th>\n",
       "      <td>AGSTRA</td>\n",
       "      <td>BE</td>\n",
       "      <td>11.87</td>\n",
       "      <td>4.95</td>\n",
       "      <td>10.74</td>\n",
       "      <td>11.31</td>\n",
       "      <td>18-Mar-2025</td>\n",
       "    </tr>\n",
       "    <tr>\n",
       "      <th>2</th>\n",
       "      <td>AKI</td>\n",
       "      <td>BE</td>\n",
       "      <td>7.29</td>\n",
       "      <td>-0.68</td>\n",
       "      <td>6.98</td>\n",
       "      <td>7.34</td>\n",
       "      <td>18-Mar-2025</td>\n",
       "    </tr>\n",
       "    <tr>\n",
       "      <th>3</th>\n",
       "      <td>ASHALOG</td>\n",
       "      <td>SM</td>\n",
       "      <td>66.60</td>\n",
       "      <td>2.62</td>\n",
       "      <td>63.60</td>\n",
       "      <td>64.00</td>\n",
       "      <td>18-Mar-2025</td>\n",
       "    </tr>\n",
       "    <tr>\n",
       "      <th>4</th>\n",
       "      <td>AUSL</td>\n",
       "      <td>ST</td>\n",
       "      <td>29.40</td>\n",
       "      <td>5.00</td>\n",
       "      <td>27.50</td>\n",
       "      <td>27.50</td>\n",
       "      <td>03-Mar-2025</td>\n",
       "    </tr>\n",
       "    <tr>\n",
       "      <th>...</th>\n",
       "      <td>...</td>\n",
       "      <td>...</td>\n",
       "      <td>...</td>\n",
       "      <td>...</td>\n",
       "      <td>...</td>\n",
       "      <td>...</td>\n",
       "      <td>...</td>\n",
       "    </tr>\n",
       "    <tr>\n",
       "      <th>73</th>\n",
       "      <td>UNILEX</td>\n",
       "      <td>SM</td>\n",
       "      <td>47.60</td>\n",
       "      <td>-5.27</td>\n",
       "      <td>44.40</td>\n",
       "      <td>47.00</td>\n",
       "      <td>18-Mar-2025</td>\n",
       "    </tr>\n",
       "    <tr>\n",
       "      <th>74</th>\n",
       "      <td>VIRINCHI</td>\n",
       "      <td>EQ</td>\n",
       "      <td>23.90</td>\n",
       "      <td>3.69</td>\n",
       "      <td>22.75</td>\n",
       "      <td>22.78</td>\n",
       "      <td>17-Mar-2025</td>\n",
       "    </tr>\n",
       "    <tr>\n",
       "      <th>75</th>\n",
       "      <td>VLEGOV</td>\n",
       "      <td>BE</td>\n",
       "      <td>34.27</td>\n",
       "      <td>4.99</td>\n",
       "      <td>31.00</td>\n",
       "      <td>32.64</td>\n",
       "      <td>18-Mar-2025</td>\n",
       "    </tr>\n",
       "    <tr>\n",
       "      <th>76</th>\n",
       "      <td>WINSOME</td>\n",
       "      <td>BZ</td>\n",
       "      <td>1.75</td>\n",
       "      <td>-2.23</td>\n",
       "      <td>1.75</td>\n",
       "      <td>1.79</td>\n",
       "      <td>18-Mar-2025</td>\n",
       "    </tr>\n",
       "    <tr>\n",
       "      <th>77</th>\n",
       "      <td>YUDIZ</td>\n",
       "      <td>SM</td>\n",
       "      <td>35.20</td>\n",
       "      <td>-4.99</td>\n",
       "      <td>35.20</td>\n",
       "      <td>37.05</td>\n",
       "      <td>18-Mar-2025</td>\n",
       "    </tr>\n",
       "  </tbody>\n",
       "</table>\n",
       "<p>78 rows × 7 columns</p>\n",
       "</div>"
      ],
      "text/plain": [
       "     Symbol  Series    LTP   %chng   New 52W/L price   Prev.Low   \\\n",
       "0     ACCORD      SM  19.40   -4.67             19.40      20.35   \n",
       "1     AGSTRA      BE  11.87    4.95             10.74      11.31   \n",
       "2        AKI      BE   7.29   -0.68              6.98       7.34   \n",
       "3    ASHALOG      SM  66.60    2.62             63.60      64.00   \n",
       "4       AUSL      ST  29.40    5.00             27.50      27.50   \n",
       "..       ...     ...    ...     ...               ...        ...   \n",
       "73    UNILEX      SM  47.60   -5.27             44.40      47.00   \n",
       "74  VIRINCHI      EQ  23.90    3.69             22.75      22.78   \n",
       "75    VLEGOV      BE  34.27    4.99             31.00      32.64   \n",
       "76   WINSOME      BZ   1.75   -2.23              1.75       1.79   \n",
       "77     YUDIZ      SM  35.20   -4.99             35.20      37.05   \n",
       "\n",
       "   Prev. Low Date   \n",
       "0      12-Mar-2025  \n",
       "1      18-Mar-2025  \n",
       "2      18-Mar-2025  \n",
       "3      18-Mar-2025  \n",
       "4      03-Mar-2025  \n",
       "..             ...  \n",
       "73     18-Mar-2025  \n",
       "74     17-Mar-2025  \n",
       "75     18-Mar-2025  \n",
       "76     18-Mar-2025  \n",
       "77     18-Mar-2025  \n",
       "\n",
       "[78 rows x 7 columns]"
      ]
     },
     "execution_count": 410,
     "metadata": {},
     "output_type": "execute_result"
    }
   ],
   "source": [
    "low_df"
   ]
  },
  {
   "cell_type": "code",
   "execution_count": 411,
   "id": "a84f5095-6d39-4fc1-b826-9f405a146183",
   "metadata": {},
   "outputs": [
    {
     "name": "stdout",
     "output_type": "stream",
     "text": [
      "<class 'pandas.core.frame.DataFrame'>\n",
      "RangeIndex: 42 entries, 0 to 41\n",
      "Data columns (total 7 columns):\n",
      " #   Column            Non-Null Count  Dtype  \n",
      "---  ------            --------------  -----  \n",
      " 0   Symbol            42 non-null     object \n",
      " 1   Series            42 non-null     object \n",
      " 2   LTP               42 non-null     float64\n",
      " 3   %chng             42 non-null     float64\n",
      " 4   New 52W/H price   42 non-null     float64\n",
      " 5   Prev.High         42 non-null     float64\n",
      " 6   Prev. High Date   42 non-null     object \n",
      "dtypes: float64(4), object(3)\n",
      "memory usage: 2.4+ KB\n"
     ]
    }
   ],
   "source": [
    "high_df.info()"
   ]
  },
  {
   "cell_type": "code",
   "execution_count": 412,
   "id": "40bf1dfa-8fc1-4acc-9762-d2cbac341f05",
   "metadata": {},
   "outputs": [
    {
     "name": "stdout",
     "output_type": "stream",
     "text": [
      "<class 'pandas.core.frame.DataFrame'>\n",
      "RangeIndex: 78 entries, 0 to 77\n",
      "Data columns (total 7 columns):\n",
      " #   Column            Non-Null Count  Dtype  \n",
      "---  ------            --------------  -----  \n",
      " 0   Symbol            78 non-null     object \n",
      " 1   Series            78 non-null     object \n",
      " 2   LTP               78 non-null     float64\n",
      " 3   %chng             78 non-null     float64\n",
      " 4   New 52W/L price   78 non-null     float64\n",
      " 5   Prev.Low          78 non-null     float64\n",
      " 6   Prev. Low Date    78 non-null     object \n",
      "dtypes: float64(4), object(3)\n",
      "memory usage: 4.4+ KB\n"
     ]
    }
   ],
   "source": [
    "low_df.info()"
   ]
  },
  {
   "cell_type": "code",
   "execution_count": 413,
   "id": "d5b565a0-4b44-4381-83b2-3b89652b6816",
   "metadata": {},
   "outputs": [
    {
     "data": {
      "text/plain": [
       "(42, 7)"
      ]
     },
     "execution_count": 413,
     "metadata": {},
     "output_type": "execute_result"
    }
   ],
   "source": [
    "high_df.shape"
   ]
  },
  {
   "cell_type": "code",
   "execution_count": 414,
   "id": "2580541a-4c00-4ec8-bbf9-6ed15db3f654",
   "metadata": {},
   "outputs": [
    {
     "data": {
      "text/plain": [
       "(78, 7)"
      ]
     },
     "execution_count": 414,
     "metadata": {},
     "output_type": "execute_result"
    }
   ],
   "source": [
    "low_df.shape"
   ]
  },
  {
   "cell_type": "code",
   "execution_count": 415,
   "id": "ba50e409-da78-4b51-ba57-0bc2e10a92a7",
   "metadata": {},
   "outputs": [
    {
     "data": {
      "text/plain": [
       "Symbol              0\n",
       "Series              0\n",
       "LTP                 0\n",
       "%chng               0\n",
       "New 52W/H price     0\n",
       "Prev.High           0\n",
       "Prev. High Date     0\n",
       "dtype: int64"
      ]
     },
     "execution_count": 415,
     "metadata": {},
     "output_type": "execute_result"
    }
   ],
   "source": [
    "high_df.isnull().sum()"
   ]
  },
  {
   "cell_type": "code",
   "execution_count": 416,
   "id": "93ca5ee7-3b80-4731-bb93-416f7afa3da5",
   "metadata": {},
   "outputs": [
    {
     "data": {
      "text/plain": [
       "Symbol              0\n",
       "Series              0\n",
       "LTP                 0\n",
       "%chng               0\n",
       "New 52W/L price     0\n",
       "Prev.Low            0\n",
       "Prev. Low Date      0\n",
       "dtype: int64"
      ]
     },
     "execution_count": 416,
     "metadata": {},
     "output_type": "execute_result"
    }
   ],
   "source": [
    "low_df.isnull().sum()"
   ]
  },
  {
   "cell_type": "code",
   "execution_count": 417,
   "id": "6bc6d9b8-4a2b-473d-8c19-9e98c7acfe46",
   "metadata": {},
   "outputs": [
    {
     "data": {
      "text/html": [
       "<div>\n",
       "<style scoped>\n",
       "    .dataframe tbody tr th:only-of-type {\n",
       "        vertical-align: middle;\n",
       "    }\n",
       "\n",
       "    .dataframe tbody tr th {\n",
       "        vertical-align: top;\n",
       "    }\n",
       "\n",
       "    .dataframe thead th {\n",
       "        text-align: right;\n",
       "    }\n",
       "</style>\n",
       "<table border=\"1\" class=\"dataframe\">\n",
       "  <thead>\n",
       "    <tr style=\"text-align: right;\">\n",
       "      <th></th>\n",
       "      <th>Symbol</th>\n",
       "      <th>Series</th>\n",
       "      <th>LTP</th>\n",
       "      <th>%chng</th>\n",
       "      <th>New 52W/H price</th>\n",
       "      <th>Prev.High</th>\n",
       "      <th>Prev. High Date</th>\n",
       "    </tr>\n",
       "  </thead>\n",
       "  <tbody>\n",
       "    <tr>\n",
       "      <th>0</th>\n",
       "      <td>ABINFRA</td>\n",
       "      <td>EQ</td>\n",
       "      <td>95.00</td>\n",
       "      <td>-0.11</td>\n",
       "      <td>98.00</td>\n",
       "      <td>97.00</td>\n",
       "      <td>18-Mar-2025</td>\n",
       "    </tr>\n",
       "    <tr>\n",
       "      <th>1</th>\n",
       "      <td>AJAXENGG</td>\n",
       "      <td>EQ</td>\n",
       "      <td>637.90</td>\n",
       "      <td>4.40</td>\n",
       "      <td>648.00</td>\n",
       "      <td>628.85</td>\n",
       "      <td>20-Feb-2025</td>\n",
       "    </tr>\n",
       "    <tr>\n",
       "      <th>2</th>\n",
       "      <td>AXISCADES</td>\n",
       "      <td>BE</td>\n",
       "      <td>890.00</td>\n",
       "      <td>-2.75</td>\n",
       "      <td>959.95</td>\n",
       "      <td>915.20</td>\n",
       "      <td>18-Mar-2025</td>\n",
       "    </tr>\n",
       "    <tr>\n",
       "      <th>3</th>\n",
       "      <td>BAJAJHCARE</td>\n",
       "      <td>EQ</td>\n",
       "      <td>708.00</td>\n",
       "      <td>4.81</td>\n",
       "      <td>745.00</td>\n",
       "      <td>719.00</td>\n",
       "      <td>06-Feb-2025</td>\n",
       "    </tr>\n",
       "    <tr>\n",
       "      <th>4</th>\n",
       "      <td>BAJFINANCE</td>\n",
       "      <td>EQ</td>\n",
       "      <td>8749.65</td>\n",
       "      <td>0.77</td>\n",
       "      <td>8879.00</td>\n",
       "      <td>8739.00</td>\n",
       "      <td>27-Feb-2025</td>\n",
       "    </tr>\n",
       "  </tbody>\n",
       "</table>\n",
       "</div>"
      ],
      "text/plain": [
       "      Symbol  Series      LTP   %chng   New 52W/H price   Prev.High   \\\n",
       "0     ABINFRA      EQ    95.00   -0.11             98.00       97.00   \n",
       "1    AJAXENGG      EQ   637.90    4.40            648.00      628.85   \n",
       "2   AXISCADES      BE   890.00   -2.75            959.95      915.20   \n",
       "3  BAJAJHCARE      EQ   708.00    4.81            745.00      719.00   \n",
       "4  BAJFINANCE      EQ  8749.65    0.77           8879.00     8739.00   \n",
       "\n",
       "  Prev. High Date   \n",
       "0      18-Mar-2025  \n",
       "1      20-Feb-2025  \n",
       "2      18-Mar-2025  \n",
       "3      06-Feb-2025  \n",
       "4      27-Feb-2025  "
      ]
     },
     "execution_count": 417,
     "metadata": {},
     "output_type": "execute_result"
    }
   ],
   "source": [
    "high_df.head()"
   ]
  },
  {
   "cell_type": "code",
   "execution_count": 418,
   "id": "9375f58a-b4cb-4c06-ab16-f5b048a9b8af",
   "metadata": {},
   "outputs": [
    {
     "data": {
      "text/html": [
       "<div>\n",
       "<style scoped>\n",
       "    .dataframe tbody tr th:only-of-type {\n",
       "        vertical-align: middle;\n",
       "    }\n",
       "\n",
       "    .dataframe tbody tr th {\n",
       "        vertical-align: top;\n",
       "    }\n",
       "\n",
       "    .dataframe thead th {\n",
       "        text-align: right;\n",
       "    }\n",
       "</style>\n",
       "<table border=\"1\" class=\"dataframe\">\n",
       "  <thead>\n",
       "    <tr style=\"text-align: right;\">\n",
       "      <th></th>\n",
       "      <th>Symbol</th>\n",
       "      <th>Series</th>\n",
       "      <th>LTP</th>\n",
       "      <th>%chng</th>\n",
       "      <th>New 52W/H price</th>\n",
       "      <th>Prev.High</th>\n",
       "      <th>Prev. High Date</th>\n",
       "    </tr>\n",
       "  </thead>\n",
       "  <tbody>\n",
       "    <tr>\n",
       "      <th>37</th>\n",
       "      <td>SILVER</td>\n",
       "      <td>EQ</td>\n",
       "      <td>100.51</td>\n",
       "      <td>-0.82</td>\n",
       "      <td>104.4</td>\n",
       "      <td>103.00</td>\n",
       "      <td>23-Oct-2024</td>\n",
       "    </tr>\n",
       "    <tr>\n",
       "      <th>38</th>\n",
       "      <td>SILVRETF</td>\n",
       "      <td>EQ</td>\n",
       "      <td>98.05</td>\n",
       "      <td>-0.87</td>\n",
       "      <td>99.2</td>\n",
       "      <td>99.10</td>\n",
       "      <td>18-Mar-2025</td>\n",
       "    </tr>\n",
       "    <tr>\n",
       "      <th>39</th>\n",
       "      <td>SWARAJENG</td>\n",
       "      <td>EQ</td>\n",
       "      <td>3739.80</td>\n",
       "      <td>13.83</td>\n",
       "      <td>3789.0</td>\n",
       "      <td>3470.00</td>\n",
       "      <td>27-Aug-2024</td>\n",
       "    </tr>\n",
       "    <tr>\n",
       "      <th>40</th>\n",
       "      <td>TAJGVK</td>\n",
       "      <td>EQ</td>\n",
       "      <td>517.85</td>\n",
       "      <td>3.23</td>\n",
       "      <td>528.1</td>\n",
       "      <td>518.85</td>\n",
       "      <td>12-Mar-2025</td>\n",
       "    </tr>\n",
       "    <tr>\n",
       "      <th>41</th>\n",
       "      <td>VADILALIND</td>\n",
       "      <td>EQ</td>\n",
       "      <td>5286.40</td>\n",
       "      <td>6.87</td>\n",
       "      <td>5450.0</td>\n",
       "      <td>5143.00</td>\n",
       "      <td>16-May-2024</td>\n",
       "    </tr>\n",
       "  </tbody>\n",
       "</table>\n",
       "</div>"
      ],
      "text/plain": [
       "       Symbol  Series      LTP   %chng   New 52W/H price   Prev.High   \\\n",
       "37      SILVER      EQ   100.51   -0.82             104.4      103.00   \n",
       "38    SILVRETF      EQ    98.05   -0.87              99.2       99.10   \n",
       "39   SWARAJENG      EQ  3739.80   13.83            3789.0     3470.00   \n",
       "40      TAJGVK      EQ   517.85    3.23             528.1      518.85   \n",
       "41  VADILALIND      EQ  5286.40    6.87            5450.0     5143.00   \n",
       "\n",
       "   Prev. High Date   \n",
       "37      23-Oct-2024  \n",
       "38      18-Mar-2025  \n",
       "39      27-Aug-2024  \n",
       "40      12-Mar-2025  \n",
       "41      16-May-2024  "
      ]
     },
     "execution_count": 418,
     "metadata": {},
     "output_type": "execute_result"
    }
   ],
   "source": [
    "high_df.tail()"
   ]
  },
  {
   "cell_type": "code",
   "execution_count": 4,
   "id": "a230ebcb-c8b9-4b60-8eba-e5b51d7a13c0",
   "metadata": {},
   "outputs": [
    {
     "data": {
      "text/html": [
       "<div>\n",
       "<style scoped>\n",
       "    .dataframe tbody tr th:only-of-type {\n",
       "        vertical-align: middle;\n",
       "    }\n",
       "\n",
       "    .dataframe tbody tr th {\n",
       "        vertical-align: top;\n",
       "    }\n",
       "\n",
       "    .dataframe thead th {\n",
       "        text-align: right;\n",
       "    }\n",
       "</style>\n",
       "<table border=\"1\" class=\"dataframe\">\n",
       "  <thead>\n",
       "    <tr style=\"text-align: right;\">\n",
       "      <th></th>\n",
       "      <th>Symbol</th>\n",
       "      <th>Series</th>\n",
       "      <th>LTP</th>\n",
       "      <th>%chng</th>\n",
       "      <th>New 52W/L price</th>\n",
       "      <th>Prev.Low</th>\n",
       "      <th>Prev. Low Date</th>\n",
       "    </tr>\n",
       "  </thead>\n",
       "  <tbody>\n",
       "    <tr>\n",
       "      <th>0</th>\n",
       "      <td>ACCORD</td>\n",
       "      <td>SM</td>\n",
       "      <td>19.40</td>\n",
       "      <td>-4.67</td>\n",
       "      <td>19.40</td>\n",
       "      <td>20.35</td>\n",
       "      <td>12-Mar-2025</td>\n",
       "    </tr>\n",
       "    <tr>\n",
       "      <th>1</th>\n",
       "      <td>AGSTRA</td>\n",
       "      <td>BE</td>\n",
       "      <td>11.87</td>\n",
       "      <td>4.95</td>\n",
       "      <td>10.74</td>\n",
       "      <td>11.31</td>\n",
       "      <td>18-Mar-2025</td>\n",
       "    </tr>\n",
       "    <tr>\n",
       "      <th>2</th>\n",
       "      <td>AKI</td>\n",
       "      <td>BE</td>\n",
       "      <td>7.29</td>\n",
       "      <td>-0.68</td>\n",
       "      <td>6.98</td>\n",
       "      <td>7.34</td>\n",
       "      <td>18-Mar-2025</td>\n",
       "    </tr>\n",
       "    <tr>\n",
       "      <th>3</th>\n",
       "      <td>ASHALOG</td>\n",
       "      <td>SM</td>\n",
       "      <td>66.60</td>\n",
       "      <td>2.62</td>\n",
       "      <td>63.60</td>\n",
       "      <td>64.00</td>\n",
       "      <td>18-Mar-2025</td>\n",
       "    </tr>\n",
       "    <tr>\n",
       "      <th>4</th>\n",
       "      <td>AUSL</td>\n",
       "      <td>ST</td>\n",
       "      <td>29.40</td>\n",
       "      <td>5.00</td>\n",
       "      <td>27.50</td>\n",
       "      <td>27.50</td>\n",
       "      <td>03-Mar-2025</td>\n",
       "    </tr>\n",
       "  </tbody>\n",
       "</table>\n",
       "</div>"
      ],
      "text/plain": [
       "   Symbol  Series    LTP   %chng   New 52W/L price   Prev.Low  Prev. Low Date \n",
       "0   ACCORD      SM  19.40   -4.67             19.40      20.35     12-Mar-2025\n",
       "1   AGSTRA      BE  11.87    4.95             10.74      11.31     18-Mar-2025\n",
       "2      AKI      BE   7.29   -0.68              6.98       7.34     18-Mar-2025\n",
       "3  ASHALOG      SM  66.60    2.62             63.60      64.00     18-Mar-2025\n",
       "4     AUSL      ST  29.40    5.00             27.50      27.50     03-Mar-2025"
      ]
     },
     "execution_count": 4,
     "metadata": {},
     "output_type": "execute_result"
    }
   ],
   "source": [
    "low_df.head()"
   ]
  },
  {
   "cell_type": "code",
   "execution_count": 420,
   "id": "7ef840f3-ce39-480c-82ae-b1a62b2cb1eb",
   "metadata": {},
   "outputs": [
    {
     "data": {
      "text/html": [
       "<div>\n",
       "<style scoped>\n",
       "    .dataframe tbody tr th:only-of-type {\n",
       "        vertical-align: middle;\n",
       "    }\n",
       "\n",
       "    .dataframe tbody tr th {\n",
       "        vertical-align: top;\n",
       "    }\n",
       "\n",
       "    .dataframe thead th {\n",
       "        text-align: right;\n",
       "    }\n",
       "</style>\n",
       "<table border=\"1\" class=\"dataframe\">\n",
       "  <thead>\n",
       "    <tr style=\"text-align: right;\">\n",
       "      <th></th>\n",
       "      <th>Symbol</th>\n",
       "      <th>Series</th>\n",
       "      <th>LTP</th>\n",
       "      <th>%chng</th>\n",
       "      <th>New 52W/L price</th>\n",
       "      <th>Prev.Low</th>\n",
       "      <th>Prev. Low Date</th>\n",
       "    </tr>\n",
       "  </thead>\n",
       "  <tbody>\n",
       "    <tr>\n",
       "      <th>73</th>\n",
       "      <td>UNILEX</td>\n",
       "      <td>SM</td>\n",
       "      <td>47.60</td>\n",
       "      <td>-5.27</td>\n",
       "      <td>44.40</td>\n",
       "      <td>47.00</td>\n",
       "      <td>18-Mar-2025</td>\n",
       "    </tr>\n",
       "    <tr>\n",
       "      <th>74</th>\n",
       "      <td>VIRINCHI</td>\n",
       "      <td>EQ</td>\n",
       "      <td>23.90</td>\n",
       "      <td>3.69</td>\n",
       "      <td>22.75</td>\n",
       "      <td>22.78</td>\n",
       "      <td>17-Mar-2025</td>\n",
       "    </tr>\n",
       "    <tr>\n",
       "      <th>75</th>\n",
       "      <td>VLEGOV</td>\n",
       "      <td>BE</td>\n",
       "      <td>34.27</td>\n",
       "      <td>4.99</td>\n",
       "      <td>31.00</td>\n",
       "      <td>32.64</td>\n",
       "      <td>18-Mar-2025</td>\n",
       "    </tr>\n",
       "    <tr>\n",
       "      <th>76</th>\n",
       "      <td>WINSOME</td>\n",
       "      <td>BZ</td>\n",
       "      <td>1.75</td>\n",
       "      <td>-2.23</td>\n",
       "      <td>1.75</td>\n",
       "      <td>1.79</td>\n",
       "      <td>18-Mar-2025</td>\n",
       "    </tr>\n",
       "    <tr>\n",
       "      <th>77</th>\n",
       "      <td>YUDIZ</td>\n",
       "      <td>SM</td>\n",
       "      <td>35.20</td>\n",
       "      <td>-4.99</td>\n",
       "      <td>35.20</td>\n",
       "      <td>37.05</td>\n",
       "      <td>18-Mar-2025</td>\n",
       "    </tr>\n",
       "  </tbody>\n",
       "</table>\n",
       "</div>"
      ],
      "text/plain": [
       "     Symbol  Series    LTP   %chng   New 52W/L price   Prev.Low   \\\n",
       "73    UNILEX      SM  47.60   -5.27             44.40      47.00   \n",
       "74  VIRINCHI      EQ  23.90    3.69             22.75      22.78   \n",
       "75    VLEGOV      BE  34.27    4.99             31.00      32.64   \n",
       "76   WINSOME      BZ   1.75   -2.23              1.75       1.79   \n",
       "77     YUDIZ      SM  35.20   -4.99             35.20      37.05   \n",
       "\n",
       "   Prev. Low Date   \n",
       "73     18-Mar-2025  \n",
       "74     17-Mar-2025  \n",
       "75     18-Mar-2025  \n",
       "76     18-Mar-2025  \n",
       "77     18-Mar-2025  "
      ]
     },
     "execution_count": 420,
     "metadata": {},
     "output_type": "execute_result"
    }
   ],
   "source": [
    "low_df.tail()"
   ]
  },
  {
   "cell_type": "code",
   "execution_count": 421,
   "id": "0815c63a-9707-420f-be83-3c13c9cb50fc",
   "metadata": {},
   "outputs": [],
   "source": [
    "# MySQL Connection\n",
    "conn = mysql.connector.connect(\n",
    "    host='localhost',\n",
    "    user='root',\n",
    "    password='LAXMIMEHRA1@5',\n",
    "    database='stock_analysis'\n",
    ")\n",
    "cursor = conn.cursor()"
   ]
  },
  {
   "cell_type": "code",
   "execution_count": 422,
   "id": "e9420c22-2223-4f2c-a41f-8a169eaaf283",
   "metadata": {},
   "outputs": [],
   "source": [
    "# Clean column names\n",
    "high_df.columns = [col.strip() for col in high_df.columns]\n",
    "low_df.columns = [col.strip() for col in low_df.columns]"
   ]
  },
  {
   "cell_type": "code",
   "execution_count": 423,
   "id": "36916815-a561-43f7-a8b5-51405d3d16e1",
   "metadata": {},
   "outputs": [],
   "source": [
    "def parse_date(date_str):\n",
    "    date_str = date_str.strip()\n",
    "    if date_str == '-' or date_str == '':\n",
    "        return None\n",
    "    else:\n",
    "        return datetime.strptime(date_str, '%d-%b-%Y').date()"
   ]
  },
  {
   "cell_type": "code",
   "execution_count": 424,
   "id": "b60f8dff-ad08-4c2c-9369-37f248168371",
   "metadata": {},
   "outputs": [],
   "source": [
    "# Load week_high_stocks table safely\n",
    "for _, row in high_df.iterrows():\n",
    "    cursor.execute(\"\"\"\n",
    "        INSERT INTO week_high_stocks (symbol, series, ltp, pct_change, new_52wh_price, prev_high, prev_high_date)\n",
    "        VALUES (%s, %s, %s, %s, %s, %s, %s)\n",
    "    \"\"\", (\n",
    "        row['Symbol'],\n",
    "        row['Series'],\n",
    "        float(row['LTP']),\n",
    "        float(row['%chng']),\n",
    "        float(row['New 52W/H price']),\n",
    "        float(row['Prev.High']),\n",
    "        parse_date(row['Prev. High Date'])\n",
    "    ))"
   ]
  },
  {
   "cell_type": "code",
   "execution_count": 425,
   "id": "75d496fe-b3cf-4c05-8b4b-07af507c8255",
   "metadata": {},
   "outputs": [],
   "source": [
    "# Load week_low_stocks table safely\n",
    "for _, row in low_df.iterrows():\n",
    "    cursor.execute(\"\"\"\n",
    "        INSERT INTO week_low_stocks (symbol, series, ltp, pct_change, new_52wl_price, prev_low, prev_low_date)\n",
    "        VALUES (%s, %s, %s, %s, %s, %s, %s)\n",
    "    \"\"\", (\n",
    "        row['Symbol'],\n",
    "        row['Series'],\n",
    "        float(row['LTP']),\n",
    "        float(row['%chng']),\n",
    "        float(row['New 52W/L price']),\n",
    "        float(row['Prev.Low']),\n",
    "        parse_date(row['Prev. Low Date'])\n",
    "    ))"
   ]
  },
  {
   "cell_type": "code",
   "execution_count": 426,
   "id": "c57aeaa7-bc25-4ef9-a059-c8524cd72539",
   "metadata": {},
   "outputs": [
    {
     "name": "stdout",
     "output_type": "stream",
     "text": [
      "✅ Data inserted successfully!\n"
     ]
    }
   ],
   "source": [
    "conn.commit()\n",
    "cursor.close()\n",
    "conn.close()\n",
    "print(\"✅ Data inserted successfully!\")"
   ]
  },
  {
   "cell_type": "code",
   "execution_count": 427,
   "id": "756bffb2-7bb6-4449-9728-145114f8747c",
   "metadata": {},
   "outputs": [],
   "source": [
    "#🚀 Python Code to Run SQL Queries\n",
    "import pandas as pd\n",
    "import mysql.connector\n",
    "\n",
    "# Function to execute and fetch SQL queries\n",
    "def fetch_query(sql):\n",
    "    cursor = conn.cursor()\n",
    "    cursor.execute(sql)\n",
    "    data = cursor.fetchall()\n",
    "    columns = [desc[0] for desc in cursor.description]\n",
    "    df = pd.DataFrame(data, columns=columns)\n",
    "    cursor.close()\n",
    "    return df\n",
    "\n",
    "\n",
    "# MySQL connection\n",
    "conn = mysql.connector.connect(\n",
    "    host='localhost',\n",
    "    user='root',\n",
    "    password='LAXMIMEHRA1@5',\n",
    "    database='stock_analysis'\n",
    ")"
   ]
  },
  {
   "cell_type": "code",
   "execution_count": 428,
   "id": "6a05c422-bd59-460c-8917-720e7991f730",
   "metadata": {},
   "outputs": [],
   "source": [
    "# 1. Highs by Series\n",
    "highs_by_series = fetch_query(\"\"\"\n",
    "    SELECT DISTINCT series, COUNT(*) AS high_count\n",
    "    FROM week_high_stocks\n",
    "    GROUP BY series\n",
    "    ORDER BY high_count DESC;\n",
    "\"\"\")"
   ]
  },
  {
   "cell_type": "code",
   "execution_count": 429,
   "id": "cdfadb58-a7be-4068-babe-dfe05e4c8cc7",
   "metadata": {},
   "outputs": [],
   "source": [
    "# 2. Lows by Series\n",
    "lows_by_series = fetch_query(\"\"\"\n",
    "    SELECT DISTINCT series, COUNT(*) AS low_count\n",
    "    FROM week_low_stocks\n",
    "    GROUP BY series\n",
    "    ORDER BY low_count DESC;\n",
    "\"\"\")"
   ]
  },
  {
   "cell_type": "code",
   "execution_count": 430,
   "id": "ba9f6cc9-0a86-4aca-aad7-9d75ca692453",
   "metadata": {},
   "outputs": [],
   "source": [
    "# 3. Top 10 gainers\n",
    "top_gainers = fetch_query(\"\"\"\n",
    "    SELECT DISTINCT symbol, series, pct_change, ltp\n",
    "    FROM week_high_stocks\n",
    "    ORDER BY pct_change DESC\n",
    "    LIMIT 10;\n",
    "\"\"\")"
   ]
  },
  {
   "cell_type": "code",
   "execution_count": 431,
   "id": "120a417b-9f14-4e1a-9df8-63322df97a7b",
   "metadata": {},
   "outputs": [],
   "source": [
    "# 4. Top 10 losers\n",
    "top_losers = fetch_query(\"\"\"\n",
    "    SELECT DISTINCT symbol, series, pct_change, ltp\n",
    "    FROM week_low_stocks\n",
    "    ORDER BY pct_change ASC\n",
    "    LIMIT 10;\n",
    "\"\"\")"
   ]
  },
  {
   "cell_type": "code",
   "execution_count": 432,
   "id": "43485cce-4c75-4b3c-99ca-995986307b9a",
   "metadata": {},
   "outputs": [],
   "source": [
    "conn.close()"
   ]
  },
  {
   "cell_type": "code",
   "execution_count": 433,
   "id": "8d23a181-e0b2-4dc7-ace4-5b3077edabb4",
   "metadata": {},
   "outputs": [
    {
     "name": "stdout",
     "output_type": "stream",
     "text": [
      "Highs by Series:\n",
      "   series  high_count\n",
      "0     EQ         720\n",
      "1     ST          85\n",
      "2     BE          43\n",
      "3     SM          42\n"
     ]
    }
   ],
   "source": [
    "# Preview results\n",
    "print(\"Highs by Series:\\n\", highs_by_series)"
   ]
  },
  {
   "cell_type": "code",
   "execution_count": 434,
   "id": "24453fe5-e3e8-4e95-9f6b-53b0951401f0",
   "metadata": {},
   "outputs": [
    {
     "name": "stdout",
     "output_type": "stream",
     "text": [
      "\n",
      "Lows by Series:\n",
      "   series  low_count\n",
      "0     ST        504\n",
      "1     BE        399\n",
      "2     SM        336\n",
      "3     EQ        231\n",
      "4     BZ        168\n"
     ]
    }
   ],
   "source": [
    "print(\"\\nLows by Series:\\n\", lows_by_series)"
   ]
  },
  {
   "cell_type": "code",
   "execution_count": 435,
   "id": "38d80ded-6fe0-4710-bae2-da25319307b9",
   "metadata": {},
   "outputs": [
    {
     "name": "stdout",
     "output_type": "stream",
     "text": [
      "\n",
      "Top 10 Gainers:\n",
      "        symbol series pct_change       ltp\n",
      "0   SWARAJENG     EQ      13.83   3739.80\n",
      "1  VADILALIND     EQ       6.87   5286.40\n",
      "2       JSWHL     EQ       5.00  22121.60\n",
      "3  CAMLINFINE     EQ       4.92    178.78\n",
      "4  BAJAJHCARE     EQ       4.81    708.00\n",
      "5     CHANDAN     SM       4.77    189.00\n",
      "6    AJAXENGG     EQ       4.40    637.90\n",
      "7  MUTHOOTFIN     EQ       3.97   2410.00\n",
      "8   MOCAPITAL     EQ       3.81     31.90\n",
      "9  CHAMBLFERT     EQ       3.68    589.50\n"
     ]
    }
   ],
   "source": [
    "print(\"\\nTop 10 Gainers:\\n\", top_gainers)"
   ]
  },
  {
   "cell_type": "code",
   "execution_count": 436,
   "id": "756f8ee4-9c87-417a-85fb-eb35412b908c",
   "metadata": {},
   "outputs": [
    {
     "name": "stdout",
     "output_type": "stream",
     "text": [
      "\n",
      "Top 10 Losers:\n",
      "        symbol series pct_change     ltp\n",
      "0  ROCKINGDCE     SM     -11.47  312.50\n",
      "1      UNILEX     SM      -5.27   47.60\n",
      "2        GLFL     BE      -5.22    4.18\n",
      "3  KESORAMIND     BE      -5.07    7.11\n",
      "4       DHRUV     BE      -5.01   73.25\n",
      "5         KTL     ST      -5.00    6.65\n",
      "6      PRABHA     BE      -5.00  210.94\n",
      "7      GENSOL     BE      -4.99  224.90\n",
      "8       YUDIZ     SM      -4.99   35.20\n",
      "9     CRAYONS     ST      -4.96   47.95\n"
     ]
    }
   ],
   "source": [
    "print(\"\\nTop 10 Losers:\\n\", top_losers)"
   ]
  },
  {
   "cell_type": "code",
   "execution_count": 437,
   "id": "9c0ca6ac-ed6f-4af0-95ea-2231ecbc4393",
   "metadata": {},
   "outputs": [],
   "source": [
    "#For Visualization \n",
    "import seaborn as sns\n",
    "import matplotlib.pyplot as plt"
   ]
  },
  {
   "cell_type": "code",
   "execution_count": 438,
   "id": "37544fba-4da7-4f91-8383-af00e07e02b6",
   "metadata": {},
   "outputs": [
    {
     "data": {
      "image/png": "[encoded data removed]",
      "text/plain": [
       "<Figure size 800x500 with 1 Axes>"
      ]
     },
     "metadata": {},
     "output_type": "display_data"
    }
   ],
   "source": [
    "# 1️⃣ Bar chart: Highs vs Lows by Series\n",
    "merged = highs_by_series.merge(lows_by_series, on='series',\n",
    "how='outer').fillna(0)\n",
    "\n",
    "plt.figure(figsize=(8,5))\n",
    "merged_melted = merged.melt(id_vars='series', value_vars=['high_count',\n",
    "'low_count'],var_name='Type', value_name='Count')\n",
    "\n",
    "sns.barplot(x='series', y='Count', hue='Type', data=merged_melted, palette='Set2')\n",
    "plt.title('52-Week Highs vs Lows by Series')\n",
    "plt.xlabel('Series')\n",
    "plt.ylabel('Number of Stocks')\n",
    "plt.legend(['52-Week Highs', '52-Week Lows'])\n",
    "plt.tight_layout()\n",
    "plt.show()"
   ]
  },
  {
   "cell_type": "code",
   "execution_count": 439,
   "id": "03e24d05-0340-4f1e-8da7-fc5fddc23831",
   "metadata": {},
   "outputs": [
    {
     "data": {
      "image/png": "[encoded data removed]",
      "text/plain": [
       "<Figure size 600x600 with 1 Axes>"
      ]
     },
     "metadata": {},
     "output_type": "display_data"
    }
   ],
   "source": [
    "# 2️⃣ Pie Chart: Total highs distribution by Series\n",
    "plt.figure(figsize=(6,6))\n",
    "plt.pie(highs_by_series['high_count'], labels=highs_by_series['series'], autopct='%1.1f%%', startangle=140)\n",
    "plt.title('52-Week Highs Distribution by Series')\n",
    "plt.show()"
   ]
  },
  {
   "cell_type": "code",
   "execution_count": 440,
   "id": "8b1b65ba-58dd-41f2-80e4-4339ec58f3f8",
   "metadata": {},
   "outputs": [
    {
     "data": {
      "image/png": "[encoded data removed]",
      "text/plain": [
       "<Figure size 600x600 with 1 Axes>"
      ]
     },
     "metadata": {},
     "output_type": "display_data"
    }
   ],
   "source": [
    "# Pie Chart: Total lows distribution by Series\n",
    "plt.figure(figsize=(6,6))\n",
    "plt.pie(lows_by_series['low_count'], labels=lows_by_series['series'], autopct='%1.1f%%', startangle=140)\n",
    "plt.title('52-Week Lows Distribution by Series')\n",
    "plt.show()"
   ]
  },
  {
   "cell_type": "code",
   "execution_count": 441,
   "id": "a8a44691-e51b-4f43-9264-d41c1728fdb5",
   "metadata": {},
   "outputs": [
    {
     "data": {
      "image/png": "[encoded data removed]",
      "text/plain": [
       "<Figure size 800x500 with 1 Axes>"
      ]
     },
     "metadata": {},
     "output_type": "display_data"
    }
   ],
   "source": [
    "# 3️⃣ Horizontal Bar Chart: Top Gainers (Fixed Warning)\n",
    "plt.figure(figsize=(8,5))\n",
    "sns.barplot(y='symbol', x='pct_change', data=top_gainers, hue='symbol', palette='Greens_r', dodge=False)\n",
    "plt.legend([],[], frameon=False)  # Hide automatic legend\n",
    "plt.title('Top 10 Gainers (52-Week Highs)')\n",
    "plt.xlabel('% Change')\n",
    "plt.ylabel('Stock Symbol')\n",
    "plt.tight_layout()\n",
    "plt.show()\n"
   ]
  },
  {
   "cell_type": "code",
   "execution_count": 442,
   "id": "168a1aaf-30d8-474d-af79-c3d4f65b8863",
   "metadata": {},
   "outputs": [
    {
     "data": {
      "image/png": "[encoded data removed]",
      "text/plain": [
       "<Figure size 800x500 with 1 Axes>"
      ]
     },
     "metadata": {},
     "output_type": "display_data"
    }
   ],
   "source": [
    "# Horizontal Bar Chart: Top Losers (Fixed Warning)\n",
    "plt.figure(figsize=(8,5))\n",
    "sns.barplot(y='symbol', x='pct_change', data=top_losers, hue='symbol', palette='Reds_r', dodge=False)\n",
    "plt.legend([],[], frameon=False)\n",
    "plt.title('Top 10 Losers (52-Week Lows)')\n",
    "plt.xlabel('% Change')\n",
    "plt.ylabel('Stock Symbol')\n",
    "plt.tight_layout()\n",
    "plt.show()"
   ]
  },
  {
   "cell_type": "code",
   "execution_count": 443,
   "id": "e931e23a-66bd-4a23-8f11-45c10e847006",
   "metadata": {},
   "outputs": [
    {
     "data": {
      "text/html": [
       "<div>\n",
       "<style scoped>\n",
       "    .dataframe tbody tr th:only-of-type {\n",
       "        vertical-align: middle;\n",
       "    }\n",
       "\n",
       "    .dataframe tbody tr th {\n",
       "        vertical-align: top;\n",
       "    }\n",
       "\n",
       "    .dataframe thead th {\n",
       "        text-align: right;\n",
       "    }\n",
       "</style>\n",
       "<table border=\"1\" class=\"dataframe\">\n",
       "  <thead>\n",
       "    <tr style=\"text-align: right;\">\n",
       "      <th></th>\n",
       "      <th>LTP</th>\n",
       "      <th>%chng</th>\n",
       "      <th>New 52W/H price</th>\n",
       "      <th>Prev.High</th>\n",
       "    </tr>\n",
       "  </thead>\n",
       "  <tbody>\n",
       "    <tr>\n",
       "      <th>count</th>\n",
       "      <td>42.000000</td>\n",
       "      <td>42.000000</td>\n",
       "      <td>42.000000</td>\n",
       "      <td>42.000000</td>\n",
       "    </tr>\n",
       "    <tr>\n",
       "      <th>mean</th>\n",
       "      <td>1732.028810</td>\n",
       "      <td>1.546667</td>\n",
       "      <td>1755.670000</td>\n",
       "      <td>1680.008095</td>\n",
       "    </tr>\n",
       "    <tr>\n",
       "      <th>std</th>\n",
       "      <td>3813.456362</td>\n",
       "      <td>3.176996</td>\n",
       "      <td>3827.736389</td>\n",
       "      <td>3721.088794</td>\n",
       "    </tr>\n",
       "    <tr>\n",
       "      <th>min</th>\n",
       "      <td>31.900000</td>\n",
       "      <td>-5.000000</td>\n",
       "      <td>31.910000</td>\n",
       "      <td>0.000000</td>\n",
       "    </tr>\n",
       "    <tr>\n",
       "      <th>25%</th>\n",
       "      <td>90.162500</td>\n",
       "      <td>0.012500</td>\n",
       "      <td>91.962500</td>\n",
       "      <td>87.222500</td>\n",
       "    </tr>\n",
       "    <tr>\n",
       "      <th>50%</th>\n",
       "      <td>525.925000</td>\n",
       "      <td>0.685000</td>\n",
       "      <td>545.775000</td>\n",
       "      <td>369.375000</td>\n",
       "    </tr>\n",
       "    <tr>\n",
       "      <th>75%</th>\n",
       "      <td>1001.120000</td>\n",
       "      <td>3.305000</td>\n",
       "      <td>1001.120000</td>\n",
       "      <td>982.270000</td>\n",
       "    </tr>\n",
       "    <tr>\n",
       "      <th>max</th>\n",
       "      <td>22121.600000</td>\n",
       "      <td>13.830000</td>\n",
       "      <td>22121.600000</td>\n",
       "      <td>21368.350000</td>\n",
       "    </tr>\n",
       "  </tbody>\n",
       "</table>\n",
       "</div>"
      ],
      "text/plain": [
       "                LTP      %chng  New 52W/H price     Prev.High\n",
       "count     42.000000  42.000000        42.000000     42.000000\n",
       "mean    1732.028810   1.546667      1755.670000   1680.008095\n",
       "std     3813.456362   3.176996      3827.736389   3721.088794\n",
       "min       31.900000  -5.000000        31.910000      0.000000\n",
       "25%       90.162500   0.012500        91.962500     87.222500\n",
       "50%      525.925000   0.685000       545.775000    369.375000\n",
       "75%     1001.120000   3.305000      1001.120000    982.270000\n",
       "max    22121.600000  13.830000     22121.600000  21368.350000"
      ]
     },
     "execution_count": 443,
     "metadata": {},
     "output_type": "execute_result"
    }
   ],
   "source": [
    "high_df.describe()"
   ]
  },
  {
   "cell_type": "code",
   "execution_count": 444,
   "id": "bcd066e6-9fb6-4def-803c-0071f4f81c81",
   "metadata": {},
   "outputs": [
    {
     "data": {
      "text/html": [
       "<div>\n",
       "<style scoped>\n",
       "    .dataframe tbody tr th:only-of-type {\n",
       "        vertical-align: middle;\n",
       "    }\n",
       "\n",
       "    .dataframe tbody tr th {\n",
       "        vertical-align: top;\n",
       "    }\n",
       "\n",
       "    .dataframe thead th {\n",
       "        text-align: right;\n",
       "    }\n",
       "</style>\n",
       "<table border=\"1\" class=\"dataframe\">\n",
       "  <thead>\n",
       "    <tr style=\"text-align: right;\">\n",
       "      <th></th>\n",
       "      <th>LTP</th>\n",
       "      <th>%chng</th>\n",
       "      <th>New 52W/L price</th>\n",
       "      <th>Prev.Low</th>\n",
       "    </tr>\n",
       "  </thead>\n",
       "  <tbody>\n",
       "    <tr>\n",
       "      <th>count</th>\n",
       "      <td>78.000000</td>\n",
       "      <td>78.000000</td>\n",
       "      <td>78.000000</td>\n",
       "      <td>78.000000</td>\n",
       "    </tr>\n",
       "    <tr>\n",
       "      <th>mean</th>\n",
       "      <td>80.522179</td>\n",
       "      <td>-0.229872</td>\n",
       "      <td>77.314615</td>\n",
       "      <td>63.566795</td>\n",
       "    </tr>\n",
       "    <tr>\n",
       "      <th>std</th>\n",
       "      <td>156.117947</td>\n",
       "      <td>3.635509</td>\n",
       "      <td>151.592376</td>\n",
       "      <td>110.203943</td>\n",
       "    </tr>\n",
       "    <tr>\n",
       "      <th>min</th>\n",
       "      <td>1.150000</td>\n",
       "      <td>-11.470000</td>\n",
       "      <td>1.100000</td>\n",
       "      <td>0.000000</td>\n",
       "    </tr>\n",
       "    <tr>\n",
       "      <th>25%</th>\n",
       "      <td>7.887500</td>\n",
       "      <td>-2.857500</td>\n",
       "      <td>7.480000</td>\n",
       "      <td>7.385000</td>\n",
       "    </tr>\n",
       "    <tr>\n",
       "      <th>50%</th>\n",
       "      <td>29.300000</td>\n",
       "      <td>-0.335000</td>\n",
       "      <td>28.700000</td>\n",
       "      <td>25.500000</td>\n",
       "    </tr>\n",
       "    <tr>\n",
       "      <th>75%</th>\n",
       "      <td>78.142500</td>\n",
       "      <td>2.562500</td>\n",
       "      <td>74.687500</td>\n",
       "      <td>72.895000</td>\n",
       "    </tr>\n",
       "    <tr>\n",
       "      <th>max</th>\n",
       "      <td>1001.490000</td>\n",
       "      <td>5.000000</td>\n",
       "      <td>1001.470000</td>\n",
       "      <td>764.500000</td>\n",
       "    </tr>\n",
       "  </tbody>\n",
       "</table>\n",
       "</div>"
      ],
      "text/plain": [
       "               LTP      %chng  New 52W/L price    Prev.Low\n",
       "count    78.000000  78.000000        78.000000   78.000000\n",
       "mean     80.522179  -0.229872        77.314615   63.566795\n",
       "std     156.117947   3.635509       151.592376  110.203943\n",
       "min       1.150000 -11.470000         1.100000    0.000000\n",
       "25%       7.887500  -2.857500         7.480000    7.385000\n",
       "50%      29.300000  -0.335000        28.700000   25.500000\n",
       "75%      78.142500   2.562500        74.687500   72.895000\n",
       "max    1001.490000   5.000000      1001.470000  764.500000"
      ]
     },
     "execution_count": 444,
     "metadata": {},
     "output_type": "execute_result"
    }
   ],
   "source": [
    "low_df.describe()"
   ]
  },
  {
   "cell_type": "code",
   "execution_count": 445,
   "id": "e3578adc-cd43-45cb-93fe-0242b450d5fc",
   "metadata": {},
   "outputs": [
    {
     "name": "stdout",
     "output_type": "stream",
     "text": [
      "Mean of High Stocks Table:\n",
      "LTP                1732.028810\n",
      "New 52W/H price    1755.670000\n",
      "%chng                 1.546667\n",
      "dtype: float64\n"
     ]
    }
   ],
   "source": [
    "# Calculate means\n",
    "mean_high = high_df[['LTP', 'New 52W/H price', '%chng']].mean()\n",
    "\n",
    "print(\"Mean of High Stocks Table:\")\n",
    "print(mean_high)"
   ]
  },
  {
   "cell_type": "code",
   "execution_count": 446,
   "id": "ec2ea720-4f42-41fc-a9f6-45b38d1dc399",
   "metadata": {},
   "outputs": [
    {
     "name": "stdout",
     "output_type": "stream",
     "text": [
      "Mean of Low Stocks Table:\n",
      "LTP                80.522179\n",
      "New 52W/L price    77.314615\n",
      "%chng              -0.229872\n",
      "dtype: float64\n"
     ]
    }
   ],
   "source": [
    "mean_low = low_df[['LTP', 'New 52W/L price', '%chng']].mean()\n",
    "\n",
    "print(\"Mean of Low Stocks Table:\")\n",
    "print(mean_low)"
   ]
  },
  {
   "cell_type": "code",
   "execution_count": 447,
   "id": "9554805d-365c-4ef8-bd01-31cb3c2ad491",
   "metadata": {},
   "outputs": [
    {
     "name": "stdout",
     "output_type": "stream",
     "text": [
      "Index(['Symbol', 'Series', 'LTP', '%chng', 'New 52W/H price', 'Prev.High',\n",
      "       'Prev. High Date'],\n",
      "      dtype='object')\n"
     ]
    }
   ],
   "source": [
    "print(high_df.columns)"
   ]
  },
  {
   "cell_type": "code",
   "execution_count": 448,
   "id": "4eaa2b4d-128a-4d48-8100-98318d2a43a2",
   "metadata": {},
   "outputs": [
    {
     "name": "stdout",
     "output_type": "stream",
     "text": [
      "Index(['Symbol', 'Series', 'LTP', '%chng', 'New 52W/L price', 'Prev.Low',\n",
      "       'Prev. Low Date'],\n",
      "      dtype='object')\n"
     ]
    }
   ],
   "source": [
    "print(low_df.columns)"
   ]
  },
  {
   "cell_type": "code",
   "execution_count": 449,
   "id": "1abdfde0-2372-476f-9724-c176cc06b19b",
   "metadata": {},
   "outputs": [
    {
     "name": "stdout",
     "output_type": "stream",
     "text": [
      "Nearest to Average in High Table:\n",
      "         Symbol      LTP  diff_from_avg\n",
      "12  COROMANDEL  1969.25      237.22119\n",
      "27   KOTAKBANK  2019.85      287.82119\n",
      "31  MUTHOOTFIN  2410.00      677.97119\n",
      "8     CASHIETF  1001.49      730.53881\n",
      "28   LIQUIDSBI  1000.01      732.01881\n"
     ]
    }
   ],
   "source": [
    "# For High stocks\n",
    "avg_ltp_high = high_df['LTP'].mean()\n",
    "high_df['diff_from_avg'] = (high_df['LTP'] - avg_ltp_high).abs()\n",
    "nearest_high = high_df.sort_values('diff_from_avg').head(5)\n",
    "\n",
    "print(\"Nearest to Average in High Table:\\n\", nearest_high[['Symbol', 'LTP', 'diff_from_avg']])"
   ]
  },
  {
   "cell_type": "code",
   "execution_count": 450,
   "id": "3a05337f-2162-4a4b-8359-9ba61ee01047",
   "metadata": {},
   "outputs": [
    {
     "name": "stdout",
     "output_type": "stream",
     "text": [
      "\n",
      "Nearest to Average in Low Table:\n",
      "         Symbol    LTP  diff_from_avg\n",
      "46  NDLVENTURE  80.06       0.462179\n",
      "64    SATIPOLY  79.35       1.172179\n",
      "5     AUSOMENT  74.52       6.002179\n",
      "12       DHRUV  73.25       7.272179\n",
      "44       NAMAN  72.45       8.072179\n"
     ]
    }
   ],
   "source": [
    "# For Low stocks\n",
    "avg_ltp_low = low_df['LTP'].mean()\n",
    "low_df['diff_from_avg'] = (low_df['LTP'] - avg_ltp_low).abs()\n",
    "nearest_low = low_df.sort_values('diff_from_avg').head(5)\n",
    "\n",
    "print(\"\\nNearest to Average in Low Table:\\n\", nearest_low[['Symbol', 'LTP', 'diff_from_avg']])\n"
   ]
  },
  {
   "cell_type": "code",
   "execution_count": 451,
   "id": "8677ee59-4be7-4bd3-9a5c-649b564f4c86",
   "metadata": {},
   "outputs": [
    {
     "data": {
      "image/png": "[encoded data removed]",
      "text/plain": [
       "<Figure size 800x500 with 1 Axes>"
      ]
     },
     "metadata": {},
     "output_type": "display_data"
    }
   ],
   "source": [
    "# For 52 week High dataset\n",
    "plt.figure(figsize=(8,5))\n",
    "sns.barplot(data=nearest_high, y='Symbol', x='LTP', hue='Symbol', palette='Blues_r', legend=False)\n",
    "plt.axvline(avg_ltp_high, color='red', linestyle='--', label=f'Mean LTP: {avg_ltp_high:.2f}')\n",
    "plt.title('Top Stocks Nearest to Average LTP (52W High Table)')\n",
    "plt.xlabel('LTP')\n",
    "plt.ylabel('Symbol')\n",
    "plt.tight_layout()\n",
    "plt.show()"
   ]
  },
  {
   "cell_type": "code",
   "execution_count": 452,
   "id": "3988da67-e2a4-47b1-a53f-4d9cc2ec3337",
   "metadata": {},
   "outputs": [
    {
     "data": {
      "image/png": "[encoded data removed]",
      "text/plain": [
       "<Figure size 800x500 with 1 Axes>"
      ]
     },
     "metadata": {},
     "output_type": "display_data"
    }
   ],
   "source": [
    "# For 52 week Low dataset\n",
    "plt.figure(figsize=(8,5))\n",
    "sns.barplot(data=nearest_low, y='Symbol', x='LTP', hue='Symbol', palette='Greens_r', legend=False)\n",
    "plt.axvline(avg_ltp_low, color='red', linestyle='--', label=f'Mean LTP: {avg_ltp_low:.2f}')\n",
    "plt.title('Top Stocks Nearest to Average LTP (52W Low Table)')\n",
    "plt.xlabel('LTP')\n",
    "plt.ylabel('Symbol')\n",
    "plt.tight_layout()\n",
    "plt.show()"
   ]
  },
  {
   "cell_type": "code",
   "execution_count": 453,
   "id": "8f14c0fe-f7af-4d1a-ac6b-37ac47f54395",
   "metadata": {},
   "outputs": [
    {
     "name": "stdout",
     "output_type": "stream",
     "text": [
      "Top 10 Highest LTP in week_high_stocks:\n",
      "        Symbol       LTP\n",
      "25       JSWHL  22121.60\n",
      "4   BAJFINANCE   8749.65\n",
      "24   IVZINGOLD   7800.50\n",
      "41  VADILALIND   5286.40\n",
      "21      INDIGO   4941.75\n",
      "39   SWARAJENG   3739.80\n",
      "30      MPSLTD   2907.00\n",
      "31  MUTHOOTFIN   2410.00\n",
      "27   KOTAKBANK   2019.85\n",
      "12  COROMANDEL   1969.25\n"
     ]
    }
   ],
   "source": [
    "# Top 10 LTP in week_high_stocks\n",
    "top10_high = high_df.sort_values(by='LTP', ascending=False).head(10)\n",
    "print(\"Top 10 Highest LTP in week_high_stocks:\")\n",
    "print(top10_high[['Symbol', 'LTP']])\n"
   ]
  },
  {
   "cell_type": "code",
   "execution_count": 454,
   "id": "fb18ca0c-613c-47f5-aa5e-cdbf0d92ad93",
   "metadata": {},
   "outputs": [
    {
     "name": "stdout",
     "output_type": "stream",
     "text": [
      "\n",
      "Top 10 Highest LTP in week_low_stocks:\n",
      "        Symbol      LTP\n",
      "6     CASHIETF  1001.49\n",
      "47        NIBE   806.55\n",
      "34     KOTYARK   402.75\n",
      "57  ROCKINGDCE   312.50\n",
      "55    RBMINFRA   276.15\n",
      "54      RAPPID   243.40\n",
      "18      GENSOL   224.90\n",
      "50      PRABHA   210.94\n",
      "32       KCEIL   186.00\n",
      "26      INDOUS   157.00\n"
     ]
    }
   ],
   "source": [
    "# Top 10 LTP in week_low_stocks\n",
    "top10_low = low_df.sort_values(by='LTP', ascending=False).head(10)\n",
    "print(\"\\nTop 10 Highest LTP in week_low_stocks:\")\n",
    "print(top10_low[['Symbol', 'LTP']])"
   ]
  },
  {
   "cell_type": "code",
   "execution_count": 455,
   "id": "d334c5dd-54d4-490d-a291-f5868c4cf521",
   "metadata": {},
   "outputs": [
    {
     "data": {
      "text/plain": [
       "Index(['Symbol', 'Series_high', 'LTP_high', '%chng_high', 'New 52W/H price',\n",
       "       'Prev.High', 'Prev. High Date', 'diff_from_avg_high', 'Series_low',\n",
       "       'LTP_low', '%chng_low', 'New 52W/L price', 'Prev.Low', 'Prev. Low Date',\n",
       "       'diff_from_avg_low'],\n",
       "      dtype='object')"
      ]
     },
     "execution_count": 455,
     "metadata": {},
     "output_type": "execute_result"
    }
   ],
   "source": [
    "common_df.columns"
   ]
  },
  {
   "cell_type": "code",
   "execution_count": 456,
   "id": "61094684-b552-4f5f-96df-1d10ccad8fa2",
   "metadata": {},
   "outputs": [
    {
     "name": "stdout",
     "output_type": "stream",
     "text": [
      "🔔 Common stocks between 52W High and 52W Low tables:\n",
      "{'PRABHA', 'CASHIETF'}\n",
      "\n",
      "Total common stocks: 2\n"
     ]
    }
   ],
   "source": [
    "# Get the unique symbols from both datasets\n",
    "high_symbols = set(high_df['Symbol'].unique())\n",
    "low_symbols = set(low_df['Symbol'].unique())\n",
    "\n",
    "# Find common symbols\n",
    "common_symbols = high_symbols.intersection(low_symbols)\n",
    "\n",
    "print(f\"🔔 Common stocks between 52W High and 52W Low tables:\")\n",
    "print(common_symbols)\n",
    "print(f\"\\nTotal common stocks: {len(common_symbols)}\")"
   ]
  },
  {
   "cell_type": "code",
   "execution_count": 457,
   "id": "e74a66e8-a91e-4319-ae5a-876e4f1d6eec",
   "metadata": {},
   "outputs": [
    {
     "data": {
      "image/png": "[encoded data removed]",
      "text/plain": [
       "<Figure size 600x600 with 1 Axes>"
      ]
     },
     "metadata": {},
     "output_type": "display_data"
    }
   ],
   "source": [
    "from matplotlib_venn import venn2\n",
    "\n",
    "plt.figure(figsize=(6,6))\n",
    "venn2([high_symbols, low_symbols], set_labels=('52W High Stocks', '52W Low Stocks'), set_colors=('skyblue', 'lightgreen'))\n",
    "plt.title('Venn Diagram: Common Stocks between 52W High and 52W Low')\n",
    "plt.show()"
   ]
  },
  {
   "cell_type": "code",
   "execution_count": 458,
   "id": "7616acf1-5665-4a31-8247-55b4dc035a46",
   "metadata": {},
   "outputs": [
    {
     "name": "stdout",
     "output_type": "stream",
     "text": [
      "\n",
      "🔎 Full details of common stocks:\n"
     ]
    },
    {
     "data": {
      "text/html": [
       "<div>\n",
       "<style scoped>\n",
       "    .dataframe tbody tr th:only-of-type {\n",
       "        vertical-align: middle;\n",
       "    }\n",
       "\n",
       "    .dataframe tbody tr th {\n",
       "        vertical-align: top;\n",
       "    }\n",
       "\n",
       "    .dataframe thead th {\n",
       "        text-align: right;\n",
       "    }\n",
       "</style>\n",
       "<table border=\"1\" class=\"dataframe\">\n",
       "  <thead>\n",
       "    <tr style=\"text-align: right;\">\n",
       "      <th></th>\n",
       "      <th>Symbol</th>\n",
       "      <th>LTP_high</th>\n",
       "      <th>LTP_low</th>\n",
       "      <th>New 52W/H price</th>\n",
       "      <th>New 52W/L price</th>\n",
       "    </tr>\n",
       "  </thead>\n",
       "  <tbody>\n",
       "    <tr>\n",
       "      <th>0</th>\n",
       "      <td>CASHIETF</td>\n",
       "      <td>1001.49</td>\n",
       "      <td>1001.49</td>\n",
       "      <td>1001.49</td>\n",
       "      <td>1001.47</td>\n",
       "    </tr>\n",
       "    <tr>\n",
       "      <th>1</th>\n",
       "      <td>PRABHA</td>\n",
       "      <td>210.94</td>\n",
       "      <td>210.94</td>\n",
       "      <td>222.05</td>\n",
       "      <td>210.94</td>\n",
       "    </tr>\n",
       "  </tbody>\n",
       "</table>\n",
       "</div>"
      ],
      "text/plain": [
       "     Symbol  LTP_high  LTP_low  New 52W/H price  New 52W/L price\n",
       "0  CASHIETF   1001.49  1001.49          1001.49          1001.47\n",
       "1    PRABHA    210.94   210.94           222.05           210.94"
      ]
     },
     "execution_count": 458,
     "metadata": {},
     "output_type": "execute_result"
    }
   ],
   "source": [
    "# Merge on symbol to get details from both\n",
    "common_df = pd.merge(\n",
    "    high_df[high_df['Symbol'].isin(common_symbols)],\n",
    "    low_df[low_df['Symbol'].isin(common_symbols)],\n",
    "    on='Symbol',\n",
    "    suffixes=('_high', '_low')\n",
    ")\n",
    "\n",
    "print(\"\\n🔎 Full details of common stocks:\")\n",
    "common_df[['Symbol', 'LTP_high', 'LTP_low', 'New 52W/H price', 'New 52W/L price']]"
   ]
  },
  {
   "cell_type": "code",
   "execution_count": 459,
   "id": "bc8d5c12-3581-43c5-8dde-2dd94b26f215",
   "metadata": {},
   "outputs": [
    {
     "data": {
      "image/png": "[encoded data removed]",
      "text/plain": [
       "<Figure size 1000x600 with 1 Axes>"
      ]
     },
     "metadata": {},
     "output_type": "display_data"
    }
   ],
   "source": [
    "# Sort common_df by symbol for consistency\n",
    "common_df_sorted = common_df.sort_values('Symbol')\n",
    "\n",
    "plt.figure(figsize=(10,6))\n",
    "x = common_df_sorted['Symbol']\n",
    "plt.bar(x, common_df_sorted['LTP_high'], label='LTP (52W High Table)', color='dodgerblue', alpha=0.7)\n",
    "plt.bar(x, common_df_sorted['LTP_low'], label='LTP (52W Low Table)', color='seagreen', alpha=0.7)\n",
    "plt.xlabel('Stock Symbol')\n",
    "plt.ylabel('LTP')\n",
    "plt.title('LTP Comparison of Common Stocks')\n",
    "plt.legend()\n",
    "plt.xticks(rotation=45)\n",
    "plt.tight_layout()\n",
    "plt.show()"
   ]
  },
  {
   "cell_type": "code",
   "execution_count": 465,
   "id": "811c3468-47a7-46ed-8454-6a94113de700",
   "metadata": {},
   "outputs": [
    {
     "name": "stdout",
     "output_type": "stream",
     "text": [
      "🔥 Stocks within 1% of 52W High breakout:\n",
      "        Symbol       LTP  New 52W/H price  pct_below_high\n",
      "7   CAMLINFINE    178.78           178.80        0.011186\n",
      "8     CASHIETF   1001.49          1001.49        0.000000\n",
      "9   CHAMBLFERT    589.50           591.35        0.312843\n",
      "11   COMMITTED    218.00           219.90        0.864029\n",
      "16    GOLDBEES     74.14            74.78        0.855844\n",
      "17     GOLDETF     87.08            87.49        0.468625\n",
      "18  GOLDETFADD     87.19            87.29        0.114561\n",
      "19    GOLDIETF     76.50            77.08        0.752465\n",
      "20   GOLDSHARE     74.95            75.35        0.530856\n",
      "23        ITTL     34.15            34.15        0.000000\n",
      "25       JSWHL  22121.60         22121.60        0.000000\n",
      "28   LIQUIDSBI   1000.01          1000.01        0.000000\n",
      "29   MOCAPITAL     31.90            31.91        0.031338\n",
      "31  MUTHOOTFIN   2410.00          2423.50        0.557046\n",
      "34   SELECTIPO     41.60            41.60        0.000000\n"
     ]
    }
   ],
   "source": [
    "# Calculate % below 52W High\n",
    "high_df['pct_below_high'] = ((high_df['New 52W/H price'] - high_df['LTP']) / high_df['New 52W/H price']) * 100\n",
    "\n",
    "# Filter stocks within 5% of 52W High breakout\n",
    "near_breakout_high = high_df[high_df['pct_below_high'] <= 1]\n",
    "print(\"🔥 Stocks within 1% of 52W High breakout:\")\n",
    "print(near_breakout_high[['Symbol', 'LTP', 'New 52W/H price', 'pct_below_high']])"
   ]
  },
  {
   "cell_type": "code",
   "execution_count": 466,
   "id": "f1965923-d901-4b24-8b2c-93a980685592",
   "metadata": {},
   "outputs": [
    {
     "data": {
      "image/png": "[encoded data removed]",
      "text/plain": [
       "<Figure size 1000x500 with 1 Axes>"
      ]
     },
     "metadata": {},
     "output_type": "display_data"
    }
   ],
   "source": [
    "# Visualize 52W High breakout watchlist\n",
    "plt.figure(figsize=(10,5))\n",
    "sns.barplot(data=near_breakout_high, y='Symbol', x='pct_below_high',hue='Symbol', palette='summer')\n",
    "plt.title(\"52W High Breakout Watchlist (<=1% below)\")\n",
    "plt.xlabel(\"% Below 52W High\")\n",
    "plt.ylabel(\"Stock Symbol\")\n",
    "plt.grid(True)\n",
    "plt.show()"
   ]
  },
  {
   "cell_type": "code",
   "execution_count": 467,
   "id": "9d9e75b0-a523-4f8e-96c9-44c5943c7d82",
   "metadata": {},
   "outputs": [
    {
     "name": "stdout",
     "output_type": "stream",
     "text": [
      "⚠️ Stocks within 1% of 52W Low breakdown:\n",
      "        Symbol      LTP  New 52W/L price  pct_above_low\n",
      "0       ACCORD    19.40            19.40       0.000000\n",
      "6     CASHIETF  1001.49          1001.47       0.001997\n",
      "9      CRAYONS    47.95            47.95       0.000000\n",
      "12       DHRUV    73.25            73.25       0.000000\n",
      "18      GENSOL   224.90           224.90       0.000000\n",
      "20        GLFL     4.18             4.18       0.000000\n",
      "25     INDIFRA    13.00            13.00       0.000000\n",
      "29    JIWANRAM     7.00             7.00       0.000000\n",
      "33  KESORAMIND     7.11             7.11       0.000000\n",
      "36         KTL     6.65             6.65       0.000000\n",
      "38     MANDEEP    20.35            20.15       0.992556\n",
      "40         MEP     1.54             1.54       0.000000\n",
      "42    MORARJEE     5.50             5.50       0.000000\n",
      "48     NMSTEEL    29.20            29.05       0.516351\n",
      "49   PHOGLOBAL    20.20            20.10       0.497512\n",
      "50      PRABHA   210.94           210.94       0.000000\n",
      "53  QUICKTOUCH    43.00            42.60       0.938967\n",
      "57  ROCKINGDCE   312.50           310.05       0.790195\n",
      "66        SECL     9.30             9.30       0.000000\n",
      "72     UNIINFO    17.15            17.00       0.882353\n",
      "76     WINSOME     1.75             1.75       0.000000\n",
      "77       YUDIZ    35.20            35.20       0.000000\n"
     ]
    }
   ],
   "source": [
    "# Calculate % above 52W Low\n",
    "low_df['pct_above_low'] = ((low_df['LTP'] - low_df['New 52W/L price']) / low_df['New 52W/L price']) * 100\n",
    "\n",
    "# Filter stocks within 5% of breaking their 52W Low\n",
    "near_breakout_low = low_df[low_df['pct_above_low'] <= 1]\n",
    "print(\"⚠️ Stocks within 1% of 52W Low breakdown:\")\n",
    "print(near_breakout_low[['Symbol', 'LTP', 'New 52W/L price', 'pct_above_low']])"
   ]
  },
  {
   "cell_type": "code",
   "execution_count": 468,
   "id": "9ec7e985-fb27-4a4d-99f2-0834b944a90a",
   "metadata": {},
   "outputs": [
    {
     "data": {
      "image/png": "[encoded data removed]",
      "text/plain": [
       "<Figure size 1000x500 with 1 Axes>"
      ]
     },
     "metadata": {},
     "output_type": "display_data"
    }
   ],
   "source": [
    "# Visualize 52W Low breakdown watchlist\n",
    "plt.figure(figsize=(10,5))\n",
    "sns.barplot(data=near_breakout_low, y='Symbol', x='pct_above_low', hue='Symbol', palette='autumn')\n",
    "plt.title(\"⚠️ 52W Low Breakdown Watchlist (<=1% above)\")\n",
    "plt.xlabel(\"% Above 52W Low\")\n",
    "plt.ylabel(\"Stock Symbol\")\n",
    "plt.grid(True)\n",
    "plt.show()"
   ]
  },
  {
   "cell_type": "code",
   "execution_count": 477,
   "id": "c7d0d15f-64da-4366-b602-8f2c382e032d",
   "metadata": {},
   "outputs": [
    {
     "name": "stdout",
     "output_type": "stream",
     "text": [
      "✅ MySQL connection established!\n"
     ]
    }
   ],
   "source": [
    "import mysql.connector\n",
    "import pandas as pd\n",
    "import seaborn as sns\n",
    "import matplotlib.pyplot as plt\n",
    "\n",
    "# MySQL Connection Setup ---\n",
    "def create_connection():\n",
    "    try:\n",
    "        conn = mysql.connector.connect(\n",
    "            host=\"localhost\",\n",
    "            user=\"root\",\n",
    "            password='LAXMIMEHRA1@5',\n",
    "            database='stock_analysis'   \n",
    "        )\n",
    "        print(\"✅ MySQL connection established!\")\n",
    "        return conn\n",
    "    except mysql.connector.Error as err:\n",
    "        print(f\"❌ Error: {err}\")\n",
    "        return None\n",
    "\n",
    "conn = create_connection()\n",
    "\n",
    "# Helper function to run queries \n",
    "def fetch_query(sql):\n",
    "    return pd.read_sql(sql, conn)\n"
   ]
  },
  {
   "cell_type": "code",
   "execution_count": 475,
   "id": "9d1fce1b-a8cb-4bb4-8a67-0aeacd06dc13",
   "metadata": {},
   "outputs": [
    {
     "name": "stdout",
     "output_type": "stream",
     "text": [
      "📊 Series Breakdown for 52W Highs:\n",
      "  series  stock_count  avg_pct_change\n",
      "0     EQ          720            1.78\n",
      "1     ST           85            1.18\n",
      "2     BE           43           -3.85\n",
      "3     SM           42            3.84\n",
      "📉 Series Breakdown for 52W Lows:\n",
      "  series  stock_count  avg_pct_change\n",
      "0     ST          504            0.72\n",
      "1     BE          399           -0.31\n",
      "2     SM          336           -1.35\n",
      "3     EQ          231            0.84\n",
      "4     BZ          168           -2.11\n"
     ]
    },
    {
     "name": "stderr",
     "output_type": "stream",
     "text": [
      "C:\\Users\\ADMIN\\AppData\\Local\\Temp\\ipykernel_7568\\1692639406.py:25: UserWarning: pandas only supports SQLAlchemy connectable (engine/connection) or database string URI or sqlite3 DBAPI2 connection. Other DBAPI2 objects are not tested. Please consider using SQLAlchemy.\n",
      "  return pd.read_sql(sql, conn)\n",
      "C:\\Users\\ADMIN\\AppData\\Local\\Temp\\ipykernel_7568\\1692639406.py:25: UserWarning: pandas only supports SQLAlchemy connectable (engine/connection) or database string URI or sqlite3 DBAPI2 connection. Other DBAPI2 objects are not tested. Please consider using SQLAlchemy.\n",
      "  return pd.read_sql(sql, conn)\n"
     ]
    }
   ],
   "source": [
    "# Series-wise Breakdown (for 52W High dataset)\n",
    "query_series_high = \"\"\"\n",
    "SELECT series, COUNT(*) AS stock_count, ROUND(AVG(pct_change), 2) AS avg_pct_change\n",
    "FROM week_high_stocks\n",
    "GROUP BY series\n",
    "ORDER BY stock_count DESC;\n",
    "\"\"\"\n",
    "series_high_df = fetch_query(query_series_high)\n",
    "print(\"📊 Series Breakdown for 52W Highs:\")\n",
    "print(series_high_df)\n",
    "\n",
    "# Series-wise Breakdown (for 52W Low dataset) \n",
    "query_series_low = \"\"\"\n",
    "SELECT series, COUNT(*) AS stock_count, ROUND(AVG(pct_change), 2) AS avg_pct_change\n",
    "FROM week_low_stocks\n",
    "GROUP BY series\n",
    "ORDER BY stock_count DESC;\n",
    "\"\"\"\n",
    "series_low_df = fetch_query(query_series_low)\n",
    "print(\"📉 Series Breakdown for 52W Lows:\")\n",
    "print(series_low_df)"
   ]
  },
  {
   "cell_type": "code",
   "execution_count": 479,
   "id": "433342d7-aa40-4316-b2a1-fb87ce6af228",
   "metadata": {},
   "outputs": [
    {
     "name": "stderr",
     "output_type": "stream",
     "text": [
      "C:\\Users\\ADMIN\\AppData\\Local\\Temp\\ipykernel_7568\\345225534.py:4: FutureWarning: \n",
      "\n",
      "Passing `palette` without assigning `hue` is deprecated and will be removed in v0.14.0. Assign the `y` variable to `hue` and set `legend=False` for the same effect.\n",
      "\n",
      "  sns.barplot(data=series_high_df, y='series', x='stock_count', palette='Blues_d')\n",
      "C:\\Users\\ADMIN\\AppData\\Local\\Temp\\ipykernel_7568\\345225534.py:8: FutureWarning: \n",
      "\n",
      "Passing `palette` without assigning `hue` is deprecated and will be removed in v0.14.0. Assign the `y` variable to `hue` and set `legend=False` for the same effect.\n",
      "\n",
      "  sns.barplot(data=series_low_df, y='series', x='stock_count', palette='Reds_d')\n"
     ]
    },
    {
     "data": {
      "image/png": "[encoded data removed]",
      "text/plain": [
       "<Figure size 1200x500 with 2 Axes>"
      ]
     },
     "metadata": {},
     "output_type": "display_data"
    }
   ],
   "source": [
    "# Visualizations\n",
    "plt.figure(figsize=(12, 5))\n",
    "plt.subplot(1, 2, 1)\n",
    "sns.barplot(data=series_high_df, y='series', x='stock_count', palette='Blues_d')\n",
    "plt.title(\"52W High - Stocks Count by Series\")\n",
    "\n",
    "plt.subplot(1, 2, 2)\n",
    "sns.barplot(data=series_low_df, y='series', x='stock_count', palette='Reds_d')\n",
    "plt.title(\"52W Low - Stocks Count by Series\")\n",
    "\n",
    "plt.tight_layout()\n",
    "plt.show()"
   ]
  },
  {
   "cell_type": "code",
   "execution_count": null,
   "id": "dbc0369e-7492-45fe-8084-2b494e873b01",
   "metadata": {},
   "outputs": [],
   "source": []
  }
 ],
 "metadata": {
  "kernelspec": {
   "display_name": "Python 3 (ipykernel)",
   "language": "python",
   "name": "python3"
  },
  "language_info": {
   "codemirror_mode": {
    "name": "ipython",
    "version": 3
   },
   "file_extension": ".py",
   "mimetype": "text/x-python",
   "name": "python",
   "nbconvert_exporter": "python",
   "pygments_lexer": "ipython3",
   "version": "3.12.4"
  }
 },
 "nbformat": 4,
 "nbformat_minor": 5
}
